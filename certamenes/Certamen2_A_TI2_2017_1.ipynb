{
 "cells": [
  {
   "cell_type": "markdown",
   "metadata": {},
   "source": [
    "# Certamen 2A, TI 2, 2017-1\n",
    "\n",
    "Leo Ferres & Rodrigo Trigo\n",
    "UDD"
   ]
  },
  {
   "cell_type": "markdown",
   "metadata": {},
   "source": [
    "## Pregunta 1\n",
    "Cree la función ```fechaValida(fecha)``` que devuelva ```True``` si el argumento es una fecha real, o ```False``` si no. Ejemplo, \"32 de enero\" no es válida (no considere bisiestos). La fecha se dará en el siguiente formato: ```dd/mm/yyyy```. Sugerencia: puede usar la función ```split()``` de ```str```. Compruebe que ejecute usando su fecha de nacimiento."
   ]
  },
  {
   "cell_type": "code",
   "execution_count": 1,
   "metadata": {},
   "outputs": [
    {
     "ename": "NameError",
     "evalue": "name 'fechaValida' is not defined",
     "output_type": "error",
     "traceback": [
      "\u001b[0;31m---------------------------------------------------------------------------\u001b[0m",
      "\u001b[0;31mNameError\u001b[0m                                 Traceback (most recent call last)",
      "\u001b[0;32m<ipython-input-1-22268c32e69e>\u001b[0m in \u001b[0;36m<module>\u001b[0;34m()\u001b[0m\n\u001b[1;32m      1\u001b[0m \u001b[0;31m##escriba la función aqui##\u001b[0m\u001b[0;34m\u001b[0m\u001b[0;34m\u001b[0m\u001b[0m\n\u001b[1;32m      2\u001b[0m \u001b[0;34m\u001b[0m\u001b[0m\n\u001b[0;32m----> 3\u001b[0;31m \u001b[0mfechaValida\u001b[0m\u001b[0;34m(\u001b[0m\u001b[0;34m'02/06/2017'\u001b[0m\u001b[0;34m)\u001b[0m\u001b[0;34m\u001b[0m\u001b[0m\n\u001b[0m",
      "\u001b[0;31mNameError\u001b[0m: name 'fechaValida' is not defined"
     ]
    }
   ],
   "source": [
    "##escriba la función aqui##\n",
    "\n",
    "fechaValida('02/06/2017')"
   ]
  },
  {
   "cell_type": "markdown",
   "metadata": {},
   "source": [
    "## Pregunta 2\n",
    "Dado el string de su RUT sin guión ni dígito verificador encuentre la $\\sum_{i=1}^{n}d_i*i$, donde $n$ es el largo del string, $d$ es cada dígito, y $d_1$ es el último número del RUT."
   ]
  },
  {
   "cell_type": "code",
   "execution_count": 10,
   "metadata": {},
   "outputs": [
    {
     "name": "stdout",
     "output_type": "stream",
     "text": [
      "ingrese su rut: 1234\n"
     ]
    }
   ],
   "source": [
    "rut = input(\"ingrese su rut: \")\n",
    "\n",
    "##su código va aqui##"
   ]
  },
  {
   "cell_type": "markdown",
   "metadata": {},
   "source": [
    "## Pregunta 3\n",
    "Cree dos funciones: 1) ```tirarDado()``` que devuelva un número $x$ aleatorio $1\\leq x \\leq 6$, y 2) la función ```sumar()``` que lanza dados y finaliza cuando la suma de los dados sea mayor que 10000 y retorna cuántos dados lanzó."
   ]
  },
  {
   "cell_type": "code",
   "execution_count": 19,
   "metadata": {},
   "outputs": [],
   "source": [
    "import random\n",
    "random.seed(int(rut))\n",
    "##su código va aqui##"
   ]
  },
  {
   "cell_type": "markdown",
   "metadata": {},
   "source": [
    "## Pregunta 4\n",
    "Otra vez el bendito triángulo. Lo pueden hacer o no? Cree una función que tome como argumento el alto de un triángulo equilátero y lo dibuje usando estrellitas. Por ejemplo, para $h=3$, entonces\n",
    "\n",
    "```\n",
    "  *\n",
    " ***\n",
    "*****\n",
    "```"
   ]
  },
  {
   "cell_type": "markdown",
   "metadata": {},
   "source": [
    "## Pregunta 5\n",
    "Lea el archivo ```puertos.csv``` donde aparecen el puerto y el país al que pertenece de la siguiente forma: ```aarhus;dinamarca```. Note que el separador es un punto y coma (\";\") y que la primer línea tiene el encabezado, el cual no debe ser considerado. Cree un diccionario ```puertos``` en el que la llave es el país, y el valor es el número de puertos de ese país."
   ]
  }
 ],
 "metadata": {
  "kernelspec": {
   "display_name": "Python [conda env:py35]",
   "language": "python",
   "name": "conda-env-py35-py"
  },
  "language_info": {
   "codemirror_mode": {
    "name": "ipython",
    "version": 3
   },
   "file_extension": ".py",
   "mimetype": "text/x-python",
   "name": "python",
   "nbconvert_exporter": "python",
   "pygments_lexer": "ipython3",
   "version": "3.5.2"
  }
 },
 "nbformat": 4,
 "nbformat_minor": 2
}
