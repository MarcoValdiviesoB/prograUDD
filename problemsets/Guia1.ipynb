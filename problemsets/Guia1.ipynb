{
 "cells": [
  {
   "cell_type": "markdown",
   "metadata": {},
   "source": [
    "<h4>Universidad del Desarrollo<br>\n",
    "Facultad de Ingeniería</h4>"
   ]
  },
  {
   "cell_type": "markdown",
   "metadata": {},
   "source": [
    "<h3 align=center>Guía de Ejercicios  N° 1<br>\n",
    "&nbsp;Tecnologías de la Información II 2/2017</h3>"
   ]
  },
  {
   "cell_type": "markdown",
   "metadata": {},
   "source": [
    "#### Unidad 1. Variables, operaciones básicas, if y ciclo for."
   ]
  },
  {
   "cell_type": "markdown",
   "metadata": {},
   "source": [
    "#### 1. Solicite un monto y calcule como entregar esa cantidad con la menor cantidad de billetes y monedas chilenas posible "
   ]
  },
  {
   "cell_type": "raw",
   "metadata": {},
   "source": [
    "Ingrese su rut sin digito verificador como su monto"
   ]
  },
  {
   "cell_type": "code",
   "execution_count": null,
   "metadata": {
    "collapsed": true
   },
   "outputs": [],
   "source": []
  },
  {
   "cell_type": "markdown",
   "metadata": {},
   "source": [
    "#### 2. Ingrese su fecha de nacimiento e imprima cual es su signo zodiacal"
   ]
  },
  {
   "cell_type": "raw",
   "metadata": {},
   "source": [
    "Investigue cuales son los rangos de cada signo (realice una lista con las fechas y otra con los signos)."
   ]
  },
  {
   "cell_type": "code",
   "execution_count": null,
   "metadata": {
    "collapsed": true
   },
   "outputs": [],
   "source": []
  },
  {
   "cell_type": "markdown",
   "metadata": {},
   "source": [
    "#### 3. Un lote de cebollas contiene 4 unidades, y un saco de ellas posee 12 lotes, y un camión puede llevar 150 sacos, si usted cosecha el numero de su rut de cebollas, cuantos camiones llena y cuantos sacos, lotes y cebollas sueltas le sobra. "
   ]
  },
  {
   "cell_type": "code",
   "execution_count": null,
   "metadata": {
    "collapsed": true
   },
   "outputs": [],
   "source": []
  },
  {
   "cell_type": "markdown",
   "metadata": {},
   "source": [
    "#### 4. Encuentre los naturales positivos menores que 1000, que posee una cantidad impar de divisores. "
   ]
  },
  {
   "cell_type": "code",
   "execution_count": null,
   "metadata": {
    "collapsed": true
   },
   "outputs": [],
   "source": []
  },
  {
   "cell_type": "markdown",
   "metadata": {},
   "source": [
    "#### 5. Existe 4 grupos de sangre, I = AB, II = AA o A0, III = BB o B0, y IV = 00."
   ]
  },
  {
   "cell_type": "raw",
   "metadata": {},
   "source": [
    "Solicite la combinacion genetica del padre y la madre, chequee que sea valida y encuentre los posibles grupo de sangre tendran los hijos."
   ]
  },
  {
   "cell_type": "code",
   "execution_count": null,
   "metadata": {
    "collapsed": true
   },
   "outputs": [],
   "source": []
  },
  {
   "cell_type": "markdown",
   "metadata": {
    "collapsed": true
   },
   "source": [
    "#### 6. Solicite n números, obtenga el promedio (con decimal) y divida los tres primeros decimales por la parte entera de este promedio, luego sume los n primeros digito del número obtenido (como entero). "
   ]
  },
  {
   "cell_type": "raw",
   "metadata": {},
   "source": [
    "Ej.: si el promedio es 123.456789 debe calcular 456/123 = 3.7071, luego 3+7+0+7 =17"
   ]
  },
  {
   "cell_type": "code",
   "execution_count": null,
   "metadata": {
    "collapsed": true
   },
   "outputs": [],
   "source": []
  },
  {
   "cell_type": "markdown",
   "metadata": {},
   "source": [
    "#### 7. Cree un programa que imprima su nombre  (usando ciclo for para cada letra),  de manera vertical, siendo que cada letra tiene tamaño 5x5 y se representa por un (*) , por ejemplo abajo se escribe \"HOLA\"."
   ]
  },
  {
   "cell_type": "raw",
   "metadata": {},
   "source": [
    "*   *\n",
    "*   *\n",
    "*****\n",
    "*   *\n",
    "*   *\n",
    "\n",
    " ***\n",
    "*   *\n",
    "*   *\n",
    "*   *\n",
    " ***\n",
    " \n",
    "*\n",
    "*\n",
    "*\n",
    "*\n",
    "*****\n",
    "\n",
    " ***\n",
    "*   *\n",
    "*****\n",
    "*   *\n",
    "*   *"
   ]
  },
  {
   "cell_type": "code",
   "execution_count": null,
   "metadata": {
    "collapsed": true
   },
   "outputs": [],
   "source": []
  },
  {
   "cell_type": "markdown",
   "metadata": {},
   "source": [
    "#### 8. Dada la siguiente lista , imprimir todas las combinaciones de dos digitos en orden de mayor a menor.\n"
   ]
  },
  {
   "cell_type": "code",
   "execution_count": 3,
   "metadata": {
    "collapsed": true
   },
   "outputs": [],
   "source": [
    "l=[0,1,2,3,4,5,6,7]"
   ]
  },
  {
   "cell_type": "code",
   "execution_count": null,
   "metadata": {
    "collapsed": true
   },
   "outputs": [],
   "source": []
  },
  {
   "cell_type": "markdown",
   "metadata": {},
   "source": [
    "#### 9. Dado un texto, dar formato a este utilizando un ciclo for, eliminando todos los espacios en blanco y mayusculas que este tenga."
   ]
  },
  {
   "cell_type": "raw",
   "metadata": {},
   "source": [
    "Ingrese su Nombre y apellido como texto. Ej.: \"Carlos Perez\" debe ser \"carlosperez\""
   ]
  },
  {
   "cell_type": "code",
   "execution_count": null,
   "metadata": {
    "collapsed": true
   },
   "outputs": [],
   "source": []
  },
  {
   "cell_type": "markdown",
   "metadata": {},
   "source": [
    "#### 10. Escribir un programa que transforme de Celsius a Fahrenheit o de Fahrenheit a Celsius. Donde:\n",
    "\n",
    "$$\\frac{C}{5} = \\frac{F - 32}{9}$$\n"
   ]
  },
  {
   "cell_type": "raw",
   "metadata": {},
   "source": [
    "C = temperatura en grados celsius y F = temperatura en fahrenheit\n",
    "Por ejemplo:\n",
    "Si ingresa 60C --> resultado debe ser 140F\n",
    "Si ingresa 45F --> resultado debe ser 7C"
   ]
  },
  {
   "cell_type": "code",
   "execution_count": 1,
   "metadata": {
    "collapsed": false
   },
   "outputs": [
    {
     "name": "stdout",
     "output_type": "stream",
     "text": [
      "Ingrese la temperatura que desee convertir (ej.: 45F, 102C) : 60C\n"
     ]
    }
   ],
   "source": [
    "temp = input(\"Ingrese la temperatura que desee convertir (ej.: 45F, 102C) : \")"
   ]
  },
  {
   "cell_type": "code",
   "execution_count": null,
   "metadata": {
    "collapsed": true
   },
   "outputs": [],
   "source": []
  },
  {
   "cell_type": "markdown",
   "metadata": {},
   "source": [
    "#### 11. Al programa que determina si tres enteros positivos pueden conformar un triangulo visto en clases, agregue en caso que si sea triangulo, que tipo de triangulo es."
   ]
  },
  {
   "cell_type": "raw",
   "metadata": {},
   "source": [
    "Las alternativas son: Equilatero, Isosceles, Isosceles Rectangulo, Escaleno y Escaleno Rectangulo"
   ]
  },
  {
   "cell_type": "code",
   "execution_count": null,
   "metadata": {
    "collapsed": true
   },
   "outputs": [],
   "source": []
  },
  {
   "cell_type": "markdown",
   "metadata": {},
   "source": [
    "#### 12. Se tiene la siguiente serie de Taylor:\n",
    "\n",
    "$$ sin(x) = \\frac{x}{1!} - \\frac{x^3}{3!} + \\frac{x^5}{5!} - \\frac{x^7}{7!} + ... $$"
   ]
  },
  {
   "cell_type": "raw",
   "metadata": {},
   "source": [
    "Solicite x y calcule el sen(x) con los 10 primeros elementos de la serie. Calcule el termino a sumar utilizando el termino anterior, es decir el nuevo término es el anterior multiplicado por -x**2 y dividido por los dos numeros que faltan del factorial. Comparelo con el resultado real."
   ]
  },
  {
   "cell_type": "code",
   "execution_count": null,
   "metadata": {
    "collapsed": true
   },
   "outputs": [],
   "source": []
  }
 ],
 "metadata": {
  "kernelspec": {
   "display_name": "Python 3",
   "language": "python",
   "name": "python3"
  },
  "language_info": {
   "codemirror_mode": {
    "name": "ipython",
    "version": 3
   },
   "file_extension": ".py",
   "mimetype": "text/x-python",
   "name": "python",
   "nbconvert_exporter": "python",
   "pygments_lexer": "ipython3",
   "version": "3.6.0"
  }
 },
 "nbformat": 4,
 "nbformat_minor": 2
}
