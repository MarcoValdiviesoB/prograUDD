{
 "cells": [
  {
   "cell_type": "markdown",
   "metadata": {},
   "source": [
    "<h4>Universidad del Desarrollo<br>\n",
    "Facultad de Ingeniería</h4>"
   ]
  },
  {
   "cell_type": "markdown",
   "metadata": {},
   "source": [
    "<h3 align=center>Guía de Ejercicios  N° 2<br>\n",
    "&nbsp;Tecnologías de la Información II 2/2017</h3>"
   ]
  },
  {
   "cell_type": "markdown",
   "metadata": {},
   "source": [
    "#### 1. Calcule la suma de los 100 primeros primos."
   ]
  },
  {
   "cell_type": "code",
   "execution_count": null,
   "metadata": {
    "collapsed": true
   },
   "outputs": [],
   "source": []
  },
  {
   "cell_type": "markdown",
   "metadata": {},
   "source": [
    "#### 2. Solicite su numero de rut sin digito verificador, y encuentre el primer primo inferior o igual al número ingresado."
   ]
  },
  {
   "cell_type": "markdown",
   "metadata": {},
   "source": [
    "Por ejemplo si su rut es 100, el primer primo inferior o igual es 97."
   ]
  },
  {
   "cell_type": "code",
   "execution_count": null,
   "metadata": {
    "collapsed": true
   },
   "outputs": [],
   "source": []
  },
  {
   "cell_type": "markdown",
   "metadata": {},
   "source": [
    "#### 3. Solicite un número entero y realice un ciclo que lo de \"vuelta\" utilizando el operador %. Por ejemplo: 123 sera 321."
   ]
  },
  {
   "cell_type": "markdown",
   "metadata": {},
   "source": [
    "Ingrese su rut como numero, el numero podria tener cualquier largo, no se puede usar rutinas reversed o similar. "
   ]
  },
  {
   "cell_type": "code",
   "execution_count": null,
   "metadata": {
    "collapsed": true
   },
   "outputs": [],
   "source": []
  },
  {
   "cell_type": "markdown",
   "metadata": {},
   "source": [
    "#### 4. Cuantifique cuantos experimentos necesita para sacar 1000 veces, 5 caras y 5 sellos, en un juego que lanza 10 monedas al azar (cara o sello). "
   ]
  },
  {
   "cell_type": "code",
   "execution_count": null,
   "metadata": {
    "collapsed": true
   },
   "outputs": [],
   "source": []
  },
  {
   "cell_type": "markdown",
   "metadata": {},
   "source": [
    "#### 5. Cree una lista, que contenga 5 bolitas blancas, 10 rojas y 15 azules, realice diez mil de experimentos y determina cuantas bolitas en promedio debe sacar de modo de extraer las 5 bolitas blancas."
   ]
  },
  {
   "cell_type": "markdown",
   "metadata": {
    "collapsed": true
   },
   "source": [
    "Utilice la funcion append para agregar elementos a la lista y la funcion pop(i) que remueve el i-esimo termino de la lista."
   ]
  },
  {
   "cell_type": "code",
   "execution_count": null,
   "metadata": {
    "collapsed": true
   },
   "outputs": [],
   "source": []
  },
  {
   "cell_type": "markdown",
   "metadata": {},
   "source": [
    "#### 6. Calcule empiricamente cual es la probabilidad que al tirar 3 dados, sean crecientes (igual o mayor)."
   ]
  },
  {
   "cell_type": "markdown",
   "metadata": {},
   "source": [
    "Investigue cual es la probabilidad teorica (opcional) y comparelas."
   ]
  },
  {
   "cell_type": "code",
   "execution_count": null,
   "metadata": {
    "collapsed": true
   },
   "outputs": [],
   "source": []
  },
  {
   "cell_type": "markdown",
   "metadata": {},
   "source": [
    "#### 7. El kino es un juego de azar en que se sortean 14 números entre el 1 y el 25, premiandose desde los 10 aciertos en adelante. Estime cuantos cartones se jugaron en total, revisando los resultados del último sorteo."
   ]
  },
  {
   "cell_type": "code",
   "execution_count": null,
   "metadata": {
    "collapsed": true
   },
   "outputs": [],
   "source": []
  },
  {
   "cell_type": "markdown",
   "metadata": {},
   "source": [
    "#### 8. En clases se realizo un programa que pedía un número natural e imprimía el número romano, implemente el programa que solicite un número romano e imprima a que número natural corresponde."
   ]
  },
  {
   "cell_type": "markdown",
   "metadata": {},
   "source": [
    "Suponga que el numero romano ingresado es valido."
   ]
  },
  {
   "cell_type": "code",
   "execution_count": null,
   "metadata": {
    "collapsed": true
   },
   "outputs": [],
   "source": []
  },
  {
   "cell_type": "markdown",
   "metadata": {},
   "source": [
    "#### 9. Realice un programa que retira 5 cartas de un naipe ingles y se detiene al extraer 100 fulls (un trio y un par), y por ultimo calcule la probabilidad empirica de elegir esta mano.  "
   ]
  },
  {
   "cell_type": "code",
   "execution_count": null,
   "metadata": {
    "collapsed": true
   },
   "outputs": [],
   "source": []
  },
  {
   "cell_type": "markdown",
   "metadata": {},
   "source": [
    "#### 10. Suponga que el año tiene 365 dias, calcule cual es la probabilidad que en curso de 35 alumnos, haya dos o más personas de cumpleaños un mismo día. "
   ]
  },
  {
   "cell_type": "code",
   "execution_count": null,
   "metadata": {
    "collapsed": true
   },
   "outputs": [],
   "source": []
  }
 ],
 "metadata": {
  "kernelspec": {
   "display_name": "Python 3",
   "language": "python",
   "name": "python3"
  },
  "language_info": {
   "codemirror_mode": {
    "name": "ipython",
    "version": 3
   },
   "file_extension": ".py",
   "mimetype": "text/x-python",
   "name": "python",
   "nbconvert_exporter": "python",
   "pygments_lexer": "ipython3",
   "version": "3.6.0"
  }
 },
 "nbformat": 4,
 "nbformat_minor": 2
}
