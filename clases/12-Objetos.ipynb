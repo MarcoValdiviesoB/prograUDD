{
 "cells": [
  {
   "cell_type": "code",
   "execution_count": null,
   "metadata": {
    "collapsed": true
   },
   "outputs": [],
   "source": [
    "class intSet(object):\n",
    "    #An intSet is a set of integers\n",
    "    def __init__(self):\n",
    "        \"\"\"Create an empty set of integers\"\"\"\n",
    "        self.numBuckets = 47\n",
    "        self.vals = []\n",
    "        for i in range(self.numBuckets):\n",
    "            self.vals.append([])\n",
    "\n",
    "    def hashE(self, e):\n",
    "        #Private function, should not be used outside of class\n",
    "        return abs(e)%len(self.vals)\n",
    "\n",
    "    def insert(self, e):\n",
    "        \"\"\"Assumes e is an integer and inserts e into self\"\"\"\n",
    "        for i in self.vals[self.hashE(e)]:\n",
    "            if i == e: return\n",
    "        self.vals[self.hashE(e)].append(e)\n",
    "\n",
    "    def member(self, e):\n",
    "        \"\"\"Assumes e is an integer\n",
    "           Returns True if e is in self, and False otherwise\"\"\"\n",
    "        return e in self.vals[self.hashE(e)]\n",
    "\n",
    "    def __str__(self):\n",
    "        \"\"\"Returns a string representation of self\"\"\"\n",
    "        elems = []\n",
    "        for bucket in self.vals:\n",
    "            for e in bucket: elems.append(e)\n",
    "        elems.sort()\n",
    "        result = ''\n",
    "        for e in elems: result = result + str(e) + ','\n",
    "        return '{' + result[:-1] + '}'"
   ]
  },
  {
   "cell_type": "code",
   "execution_count": null,
   "metadata": {
    "collapsed": true
   },
   "outputs": [],
   "source": [
    "def test1():\n",
    "    s = intSet()\n",
    "    for i in range(40):\n",
    "        s.insert(i)\n",
    "    print s.member(14)\n",
    "    print s.member(41)\n",
    "    print s\n",
    "    print s.vals  #Evil"
   ]
  },
  {
   "cell_type": "code",
   "execution_count": null,
   "metadata": {
    "collapsed": true
   },
   "outputs": [],
   "source": [
    "import datetime\n",
    "\n",
    "class Person(object):\n",
    "    def __init__(self, name):\n",
    "        #create a person with name name\n",
    "        self.name = name\n",
    "        try:\n",
    "            firstBlank = name.rindex(' ')\n",
    "            self.lastName = name[firstBlank+1:]\n",
    "        except:\n",
    "            self.lastName = name\n",
    "        self.birthday = None\n",
    "    def getLastName(self):\n",
    "        #return self's last name\n",
    "        return self.lastName\n",
    "    def setBirthday(self, birthDate):\n",
    "        #assumes birthDate is of type datetime.date\n",
    "        #sets self's birthday to birthDate\n",
    "        assert type(birthDate) == datetime.date\n",
    "        self.birthday = birthDate\n",
    "    def getAge(self):\n",
    "        #assumes that self's birthday has been set\n",
    "        #returns self's current age in days\n",
    "        assert self.birthday != None\n",
    "        return (datetime.date.today() - self.birthday).days\n",
    "    def __lt__(self, other):\n",
    "        #return True if self's name is lexicographically greater\n",
    "        #than other's name, and False otherwise\n",
    "        if self.lastName == other.lastName:\n",
    "            return self.name < other.name\n",
    "        return self.lastName < other.lastName\n",
    "    def __str__(self):\n",
    "        #return self's name\n",
    "        return self.name"
   ]
  },
  {
   "cell_type": "code",
   "execution_count": null,
   "metadata": {
    "collapsed": true
   },
   "outputs": [],
   "source": [
    "me = Person('John Guttag')\n",
    "him = Person('Barack Hussein Obama')\n",
    "her = Person('Madonna')\n",
    "print him\n",
    "print him.getLastName()\n",
    "him.setBirthday(datetime.date(1961, 8, 4))\n",
    "her.setBirthday(datetime.date(1958, 8, 16))\n",
    "##him.birthday = '8/4/61'\n",
    "print her.getAge()\n",
    "print him.getAge()\n",
    "print him < her\n",
    "print me < her\n",
    "pList = [me, him, her]\n",
    "print 'The people in pList are:'\n",
    "for p in pList:\n",
    "    print '  ' + str(p)\n",
    "pList.sort()\n",
    "print 'The people in pList are:'\n",
    "for p in pList:\n",
    "    print '  ' + str(p)"
   ]
  },
  {
   "cell_type": "code",
   "execution_count": null,
   "metadata": {
    "collapsed": true
   },
   "outputs": [],
   "source": [
    "class MITPerson(Person):\n",
    "    nextIdNum = 0\n",
    "    def __init__(self, name):\n",
    "        Person.__init__(self, name)\n",
    "        self.idNum = MITPerson.nextIdNum\n",
    "        MITPerson.nextIdNum += 1\n",
    "    def getIdNum(self):\n",
    "        return self.idNum\n",
    "    def __lt__(self, other):\n",
    "        return self.idNum < other.idNum\n",
    "    def isStudent(self):\n",
    "        return type(self)==UG or type(self)==G"
   ]
  },
  {
   "cell_type": "code",
   "execution_count": null,
   "metadata": {
    "collapsed": true
   },
   "outputs": [],
   "source": [
    "p1 = MITPerson('Barbara Beaver')\n",
    "print p1, p1.getIdNum()\n",
    "p2 = MITPerson('Sue Yuan')\n",
    "print p2, p2.getIdNum()\n",
    "p3 = MITPerson('Sue Yuan')\n",
    "print p3, p3.getIdNum()\n",
    "p4 = Person('Sue Yuan')\n",
    "print 'p1 < p2 =', p1 < p2\n",
    "print 'p3 < p2 =', p3 < p2\n",
    "print '_lt__(p1, p2) =', Person.__lt__(p1, p2)\n",
    "print 'p1 == p4 =', p1 == p4\n",
    "print 'p4 < p3 =', p4 < p3\n",
    "print 'p3 < p4 =', p3 < p4"
   ]
  },
  {
   "cell_type": "code",
   "execution_count": null,
   "metadata": {
    "collapsed": true
   },
   "outputs": [],
   "source": [
    "class UG(MITPerson):\n",
    "    def __init__(self, name):\n",
    "        MITPerson.__init__(self, name)\n",
    "        self.year = None\n",
    "    def setYear(self, year):\n",
    "        if year > 5:\n",
    "            raise OverflowError('Too many')\n",
    "        self.year = year\n",
    "    def getYear(self):\n",
    "        return self.year"
   ]
  },
  {
   "cell_type": "code",
   "execution_count": null,
   "metadata": {
    "collapsed": true
   },
   "outputs": [],
   "source": [
    "ug1 = UG('Jane Doe')\n",
    "ug2 = UG('Jane Doe')\n",
    "p3 = MITPerson('Sue Yuan')\n",
    "print ug1\n",
    "print ug1 < p3\n",
    "print ug2 < ug1\n",
    "print ug1 == ug2"
   ]
  },
  {
   "cell_type": "code",
   "execution_count": null,
   "metadata": {
    "collapsed": true
   },
   "outputs": [],
   "source": [
    "class G(MITPerson):\n",
    "    pass\n",
    "\n",
    "g1 = G('Mitch Peabody')\n",
    "\n",
    "class CourseList(object):\n",
    "    def __init__(self, number):\n",
    "        self.number = number\n",
    "        self.students = []\n",
    "    def addStudent(self, who):\n",
    "        if not who.isStudent():\n",
    "            raise TypeError('Not a student')\n",
    "        if who in self.students:\n",
    "            raise ValueError('Duplicate student')\n",
    "        self.students.append(who)\n",
    "    def remStudent(self, who):\n",
    "        try:\n",
    "            self.students.remove(who)\n",
    "        except:\n",
    "            print str(who) + ' not in ' + self.number\n",
    "    def allStudents(self):\n",
    "        for s in self.students:\n",
    "            yield s\n",
    "    def ugs(self):\n",
    "        indx = 0\n",
    "        while indx < len(self.students):\n",
    "            if type(self.students[indx]) == UG:\n",
    "                yield self.students[indx]\n",
    "            indx += 1"
   ]
  },
  {
   "cell_type": "code",
   "execution_count": null,
   "metadata": {
    "collapsed": true
   },
   "outputs": [],
   "source": [
    "     \n",
    "m1 = MITPerson('Barbara Beaver')            \n",
    "ug1 = UG('Jane Doe')\n",
    "ug2 = UG('John Doe')\n",
    "g1 = G('Mitch Peabody')\n",
    "g2 = G('Ryan Jackson')\n",
    "g3 = G('Jenny Liu')\n",
    "print(''\n",
    "SixHundred = CourseList('6.00')\n",
    "SixHundred.addStudent(ug1)\n",
    "SixHundred.addStudent(g1)\n",
    "SixHundred.addStudent(ug2)\n",
    "SixHundred.addStudent(m1)\n",
    "SixHundred.remStudent(g3)\n",
    "print('Students'\n",
    "for s in SixHundred.allStudents():\n",
    "    print(s\n",
    "print('Students Squared'\n",
    "for s in SixHundred.allStudents():\n",
    "    for s1 in SixHundred.allStudents():\n",
    "        print(s, s1\n",
    "print('Change Class test'\n",
    "for s in SixHundred.allStudents():\n",
    "    print(s\n",
    "    if s == ug1:\n",
    "        SixHundred.remStudent(ug2)\n",
    "        SixHundred.addStudent(g2)\n",
    "print('Undergraduates'\n",
    "for u in SixHundred.ugs():\n",
    "    print(u\n",
    "L = [1,2,3]\n",
    "for e in L:\n",
    "    print(e\n",
    "    L = []"
   ]
  }
 ],
 "metadata": {
  "kernelspec": {
   "display_name": "Python [conda env:py35]",
   "language": "python",
   "name": "conda-env-py35-py"
  },
  "language_info": {
   "codemirror_mode": {
    "name": "ipython",
    "version": 3
   },
   "file_extension": ".py",
   "mimetype": "text/x-python",
   "name": "python",
   "nbconvert_exporter": "python",
   "pygments_lexer": "ipython3",
   "version": "3.5.2"
  }
 },
 "nbformat": 4,
 "nbformat_minor": 2
}
