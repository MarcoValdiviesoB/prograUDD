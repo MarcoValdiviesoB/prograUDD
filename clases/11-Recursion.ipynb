{
 "cells": [
  {
   "cell_type": "code",
   "execution_count": 1,
   "metadata": {
    "collapsed": true
   },
   "outputs": [],
   "source": [
    "def keySearch(L, k):\n",
    "    for elem in L:\n",
    "        if elem[0] == k: return elem[1]\n",
    "    return None"
   ]
  },
  {
   "cell_type": "code",
   "execution_count": 6,
   "metadata": {
    "collapsed": true
   },
   "outputs": [],
   "source": [
    "EtoF = {'bread': 'pan', 'wine': 'vino',\\\n",
    "        'eats': 'come', 'drinks': 'bebe',\\\n",
    "        'likes': 'adora', 1: 'un',\\\n",
    "        'prograUDD':'prograUDD'}"
   ]
  },
  {
   "cell_type": "code",
   "execution_count": 3,
   "metadata": {
    "collapsed": true
   },
   "outputs": [],
   "source": [
    "def translateWord(word, dictionary):\n",
    "    if word in dictionary:\n",
    "        return dictionary[word]\n",
    "    else:\n",
    "        return word"
   ]
  },
  {
   "cell_type": "code",
   "execution_count": 4,
   "metadata": {
    "collapsed": true
   },
   "outputs": [],
   "source": [
    "def translate(sentence):\n",
    "    translation = ''\n",
    "    word = ''\n",
    "    for c in sentence:\n",
    "        if c != ' ':\n",
    "            word = word + c\n",
    "        else:\n",
    "            translation = translation + ' '\\\n",
    "                          + translateWord(word, EtoF)\n",
    "            word = ''\n",
    "    return translation[1:] + ' ' + translateWord(word, EtoF)"
   ]
  },
  {
   "cell_type": "code",
   "execution_count": 9,
   "metadata": {},
   "outputs": [
    {
     "name": "stdout",
     "output_type": "stream",
     "text": [
      "Leo come pan\n",
      "Loreto bebe vino\n",
      "Everyone adora prograUDD\n"
     ]
    }
   ],
   "source": [
    "print(translate('Leo eats bread'))\n",
    "print(translate('Loreto drinks wine'))\n",
    "print(translate('Everyone likes prograUDD'))"
   ]
  },
  {
   "cell_type": "code",
   "execution_count": 36,
   "metadata": {
    "collapsed": true
   },
   "outputs": [],
   "source": [
    "def toChars(s):\n",
    "    s = s.lower()\n",
    "    ans = ''\n",
    "    for c in s:\n",
    "        if c.islower():\n",
    "            ans = ans + c\n",
    "    return ans"
   ]
  },
  {
   "cell_type": "code",
   "execution_count": 37,
   "metadata": {
    "collapsed": true
   },
   "outputs": [],
   "source": [
    "def isPal(s):\n",
    "    if len(s) <= 1:\n",
    "        return True\n",
    "    else:\n",
    "        return s[0] == s[-1] and isPal(s[1:-1])"
   ]
  },
  {
   "cell_type": "code",
   "execution_count": 38,
   "metadata": {
    "collapsed": true
   },
   "outputs": [],
   "source": [
    "def isPalindrome(s):\n",
    "    \"\"\"Returns True if s is a palindrome and False otherwise\"\"\"\n",
    "    return isPal(toChars(s))"
   ]
  },
  {
   "cell_type": "code",
   "execution_count": 42,
   "metadata": {},
   "outputs": [
    {
     "name": "stdout",
     "output_type": "stream",
     "text": [
      "False\n",
      "True\n",
      "True\n",
      "True\n",
      "True\n"
     ]
    }
   ],
   "source": [
    "print(isPalindrome('Ferres'))\n",
    "print(isPalindrome('Ferref'))\n",
    "print(isPalindrome('Able was I ere I saw Elba'))\n",
    "print(isPalindrome('Are we not drawn onward, we few, drawn onward to new era?'))\n",
    "print(isPalindrome('Odio la luz azul al oido'))"
   ]
  },
  {
   "cell_type": "code",
   "execution_count": 45,
   "metadata": {},
   "outputs": [],
   "source": [
    "long = \"El ávido lo copa o coplero podía. Habla o recita y arma más a cada día. \" \\\n",
    "\"Sé amor y si es amor breve sale todo tan en su bonita parte para la mirada de los otros y\" \\\n",
    "\" os adula ser amadas, o la más lene Eva y Sara dan el bondadoso don a seres ropones y odiosos. \" \\\n",
    "\"Ulises ilusos eran agrios. Ana, Sarita, Lara, con ávida, loca soledad, Eva, Elsa, la otra, Petra, \" \\\n",
    "\"son amigas. La fácil o cubana Sarita se va, aparta a ralea con otro Basilio. Seis son, amas a mares o niña, \" \\\n",
    "\"dama, mala, rota, sosa, mona. Tigres y osos residen, opacos unos, a la caza rota de la madona y otros balan \" \\\n",
    "\"alegres. Las amadas nacen en las áridas, urales rocas. Una es la rusa. Mira por deparar y añadir, a poco la \" \\\n",
    "\"liga o ya la cala, Deseona, Zola te raje. Rosa es o la lámina la mate. Moló a nazi uranio. Rehusó rimel en \" \\\n",
    "\"odioso ojo. La mejor raza para amar os aleja tobas, os ama sin evasivas. Amor baboso si es, no será hoy amor. \" \\\n",
    "\"Al edénico da sana para platónico tema. A sur, arte plácido nada modelado. La morita Lara se aboca, da de si, \" \\\n",
    "\"mas, ese ave acá lo palió y la separó, sanó mis y a ti. Ve edad, Ivana, su samaritana, eleva los senos. Ana \" \\\n",
    "\"ropa saca. Manolo cede. Le dice: de ducales amores, adoro poder, nena, ser imán agorero. Toro tasado y ahora \" \\\n",
    "\"corneado es el erigido como el ajado. No, as, o no, don, usó rey. Era honor tapadura osada. O dote dar o dale \" \\\n",
    "\"ver. Ya se pisan. Rut con nata daré dopada. Delo solo. Sal, nene me trae son Amaral y sol racionado. Petra no \" \\\n",
    "\"conoce sol y oír folía con Ígor, opina negadora, negada, marearte sólo y abuso. Ese da loca cocaína, Mor toda \" \\\n",
    "\"soledad. Ese ver y no ser es odio. Ojo, cae fatal oro. Moda dopa. Oí, limé. No cocina. Tasó, tirad obús, no \" \\\n",
    "\"reíd, ruso dará. Cansen Alí. Vagón o rail al son. Una bala calaba son. A grosero metió sola. Mojón. Esa más \" \\\n",
    "\"leo y acoso de imitadas aperturas o no menos eróticas. Ira malévola, Tamara, la mala, a los osados atacó, \" \\\n",
    "\"pero no. Elsa, marido soso, gujo, copón y soso tite, pasó, ni vida. Nos asola, las odas. A ser, a mal, acosó \" \\\n",
    "\"Ra, sol y zorra o sorba, sepa ganar garbos el amo. Toma, madre imana gas. Oí, le da, dale, no tracé pro y amo \" \\\n",
    "\"rol o dorar ropa. Nacarado tío, con si es o no esa, ellas ya valen oro, caladas. Epopeya roja barata. Oírle. \" \\\n",
    "\"Ana es oleaje del ocaso, catalana, sane heredera. Hoy no, maja. Mírela, va dotada, toda varada, la liga abajo,\" \\\n",
    "\" Manolo ídem y a tálamo tiraron el pavor acalorado. Romana vino, milanesa oí. Reseña bemol, epidemia samosatena. \" \\\n",
    "\"Sola colará pieles o rasurará perras. Apática se es. Es oído. No repares. Oí. Domó consumo, ni moderado ni \" \\\n",
    "\"sacro. Lo dominará desde rabo a cabo. Soñáramos, a la nevera, mosaico, columna. Sí. Ugalde decoró mínimos. A \" \\\n",
    "\"pare mujer, es la Elsa más leal, la Sara mira la mar. Además, ellas, en el orbe le comerán el leve llano del \" \\\n",
    "\"ocioso varón etéreo, roedor y amargado paladín. A sor, gen. Oso irás, oso ve, lanar es. Eres sol, el ademán \" \\\n",
    "\"oso sí va a delataros, o dirá: otra harina, moler anima. Caminará seguro de su sabático natural. Nenas osan \" \\\n",
    "\"unísonas. Ellos les adornan, unos la cara, pero dan otros a lugares, o casi pululan en asedio sin un ápice \" \\\n",
    "\"más amigo. Caramelo y agrio le dieron y supo mal. Asumiré hoy, no sólo di ahora, todo ese deterioro. Mala \" \\\n",
    "\"dio su persona. Rime rotas a parábolas enanas y si nuera, ésa, anula lo rico, no conoce seco refrán, a galeras \" \\\n",
    "\"a remar, a remar a galeras, a toro y yermos son rey y oro. Tasar él a Gara, mera ramera. Sar, él a ganar \" \\\n",
    "\"feroces. Eco, no conocí rol. A luna asearé. Unís y sanan. Ésa loba rapas. Atore. Míranos, repuso, id al \" \\\n",
    "\"amor. Oiré, te deseo dotar. O ha ido. Lo son. Yo herí musa, lamo pus y no reíd. El oír. Gay, ole. Mar, \" \\\n",
    "\"acogí masa, mecí pan. Unís, oíd esa nena. Lulú pisa. Coserá gula, sor, tonado repara cal. Son. Unan Rodas. \" \\\n",
    "\"El sol le sanó. Sin unas, osan. En la ruta no citabas. Usé do. Ruge sar, anima caminar. El Omán irá harto. \" \\\n",
    "\"Áridos, o rata le da aviso. Son amé, dale. Los seres eran alevosos, arios o negros. Anídala, poda grama \" \\\n",
    "\"y rodé o roeré. Tenor, a vos oí, colé. Dona. Lleve. Llena remo. Celebro, lene, sal, lesa me da rama. La \" \\\n",
    "\"rimará. Sal. La Elsa más leal, seré jumera; pasó mini moro. Ceded. La guisan, mulo cocí. Asomaré. Ven \" \\\n",
    "\"al asomar año. Soba caoba, red. Sé dar ánimo, dolor casi no daré. Dominó mus, no, como Dios era, pero no \" \\\n",
    "\"Dios. ése. Esa cita: pasar, reparar, usar, osé, leí, para loca lo sané. Tasó masái, medí pelo, me bañé, \" \\\n",
    "\"sé río. A Sena, limón. Iván amó rodar o lacar. O va pleno, rarito mal ata y me dio lona. Mojaba, a Gila la \" \\\n",
    "\"dará. Va dotada toda. Vale, rima jamón. Yo haré de rehén, as. Anal, ata cosaco, le deja él, ose Ana, el río\" \\\n",
    "\" atar abajo, raye Po. Pesada la colore, lava y sal le aseó, no seis, no coito da arcana, por raro dolor o \" \\\n",
    "\"mayor pecar. Tonelada de liosa gana. Mierda mamó, toma, le sobra. Gran ágape, sabroso arroz y los aros o \" \\\n",
    "\"calamares asados a la losa. Son a divinos, apetitosos y no poco jugosos, o dirá más Leonor. Época tasó. \" \\\n",
    "\"Das, o sola, a la mala rama talo vela. Marisa citó. Resonémonos. A Rut repasad. A ti, miedoso, cayó Elsa, \" \\\n",
    "\"mas, enojó. Malos oí, temores. Órganos a bala calaban. Unos la liaron, o gavilanes nacarados urdieron su boda,\" \\\n",
    "\" rito satánico, con Emilio, apodado moro, lata fea, cojo. Oído seré. Son y revés, edad. Él. Osad, otro \" \\\n",
    "\"maníaco caco la deseó. Suba. Yo lo sé traer. Amada, Genaro da gen. Ani, por Ogino caí, lo frío y lo seco \" \\\n",
    "\"no, con arte podan. Oí Carlos y Lara manosear. Temen en la, solo soledad, apoderada, tan nocturna, si pesa \" \\\n",
    "\"y reveladora de todo. Adas o a ruda, patrono haré y Eros, uno, donosa o no, da jaleo. Moco di, gírele, sé \" \\\n",
    "\"oda, en roca, roha y odas, a toro, torero gana. Mire, san enredo, por oda ser o más él acude. Decide, le \" \\\n",
    "\"dé Colón. Ama casa por Ana. Sones, sola ve, lea Nati. Rama, su sana vida. De Evita y Simón aso rape, sal \" \\\n",
    "\"y oí. La polaca Eva es esa, mis edad, a coba, esa rala. Tiro malo dale, domada. No di cal. Petra, rusa, ame\" \\\n",
    "\" tocino tal para pan asado. Cine, del aroma yo haré. Son seis, o soba bromas, avisa, venís. Amaso sabotaje.\" \\\n",
    "\" La sor ama a rapaz. Arroje. Mal ojo os oí. Doné. Le miró su heroína, Ruiz. Ana, o lo meta mal. Anímala. \" \\\n",
    "\"Lo seas. Oreja reta Lozano. Ese da la cala. Yo, ágil a loco parí, daña y rara, Pedro parí. Más ural. Sean. \" \\\n",
    "\"Usa corsé. La rusa dirá: sal nene. Cansa dama. Sal. Ser gel anal, absorto, ya no. Dama le dató raza cala. \" \\\n",
    "\"Son usó Capone. Di. Ser soso y ser gitano más os atora la mama. Dañino será, mas, ámanos si es. Oí lis.\" \\\n",
    "\" Abortó, no cae, Lara atrapa aves a tiras, Ana, bucólica, falsa. Giman. Osar. Te parto alas. Lea, ve, da de \" \\\n",
    "\"losa, cola. Di vano. Cara, la tira sanas. Oír ganar. Esos Ulises ilusos oí. Doy seno, por ser esa, no, dos, \" \\\n",
    "\"o dad noble. Nadarás. Ya ve en Elsa. Malos adamaré. Saluda, soy sor. Toso. Le da. Da rima Lara, Petra, \" \\\n",
    "\"patinó bus, nena, todo. Te la se ver, broma. Seis y Roma es. Aída da casa. Mamá y a ti, cero. Alba ha ido \" \\\n",
    "\"por él. Poco a poco lo di. Vale . \""
   ]
  },
  {
   "cell_type": "code",
   "execution_count": 46,
   "metadata": {},
   "outputs": [
    {
     "name": "stdout",
     "output_type": "stream",
     "text": [
      "False\n"
     ]
    }
   ],
   "source": [
    "print(isPalindrome(long))"
   ]
  },
  {
   "cell_type": "code",
   "execution_count": 56,
   "metadata": {
    "collapsed": true
   },
   "outputs": [],
   "source": [
    "def fib(x):\n",
    "    \"\"\"assumes x an int >= 0\n",
    "        Returns Fibonacci of x\"\"\"\n",
    "    assert type(x) == int and x >=  0\n",
    "    if x == 0 or x == 1:\n",
    "        return 1\n",
    "    else:\n",
    "        return fib(x-1) + fib(x-2)"
   ]
  },
  {
   "cell_type": "code",
   "execution_count": 57,
   "metadata": {
    "collapsed": true
   },
   "outputs": [],
   "source": [
    "def testFib(n):\n",
    "    for i in range(n+1):\n",
    "        print ('fib of', i, '=', fib(i))"
   ]
  },
  {
   "cell_type": "code",
   "execution_count": 58,
   "metadata": {},
   "outputs": [
    {
     "name": "stdout",
     "output_type": "stream",
     "text": [
      "9 8\n",
      "8 7\n",
      "7 6\n",
      "6 5\n",
      "5 4\n",
      "4 3\n",
      "3 2\n",
      "2 1\n",
      "1 0\n",
      "1 0\n",
      "2 1\n",
      "1 0\n",
      "3 2\n",
      "2 1\n",
      "1 0\n",
      "1 0\n",
      "4 3\n",
      "3 2\n",
      "2 1\n",
      "1 0\n",
      "1 0\n",
      "2 1\n",
      "1 0\n",
      "5 4\n",
      "4 3\n",
      "3 2\n",
      "2 1\n",
      "1 0\n",
      "1 0\n",
      "2 1\n",
      "1 0\n",
      "3 2\n",
      "2 1\n",
      "1 0\n",
      "1 0\n",
      "6 5\n",
      "5 4\n",
      "4 3\n",
      "3 2\n",
      "2 1\n",
      "1 0\n",
      "1 0\n",
      "2 1\n",
      "1 0\n",
      "3 2\n",
      "2 1\n",
      "1 0\n",
      "1 0\n",
      "4 3\n",
      "3 2\n",
      "2 1\n",
      "1 0\n",
      "1 0\n",
      "2 1\n",
      "1 0\n",
      "7 6\n",
      "6 5\n",
      "5 4\n",
      "4 3\n",
      "3 2\n",
      "2 1\n",
      "1 0\n",
      "1 0\n",
      "2 1\n",
      "1 0\n",
      "3 2\n",
      "2 1\n",
      "1 0\n",
      "1 0\n",
      "4 3\n",
      "3 2\n",
      "2 1\n",
      "1 0\n",
      "1 0\n",
      "2 1\n",
      "1 0\n",
      "5 4\n",
      "4 3\n",
      "3 2\n",
      "2 1\n",
      "1 0\n",
      "1 0\n",
      "2 1\n",
      "1 0\n",
      "3 2\n",
      "2 1\n",
      "1 0\n",
      "1 0\n"
     ]
    },
    {
     "data": {
      "text/plain": [
       "89"
      ]
     },
     "execution_count": 58,
     "metadata": {},
     "output_type": "execute_result"
    }
   ],
   "source": [
    "fib(10)"
   ]
  },
  {
   "cell_type": "code",
   "execution_count": null,
   "metadata": {
    "collapsed": true
   },
   "outputs": [],
   "source": []
  }
 ],
 "metadata": {
  "kernelspec": {
   "display_name": "Python [conda env:py35]",
   "language": "python",
   "name": "conda-env-py35-py"
  },
  "language_info": {
   "codemirror_mode": {
    "name": "ipython",
    "version": 3
   },
   "file_extension": ".py",
   "mimetype": "text/x-python",
   "name": "python",
   "nbconvert_exporter": "python",
   "pygments_lexer": "ipython3",
   "version": "3.5.2"
  }
 },
 "nbformat": 4,
 "nbformat_minor": 2
}
