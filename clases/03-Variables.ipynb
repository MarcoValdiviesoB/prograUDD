{
 "cells": [
  {
   "cell_type": "markdown",
   "metadata": {},
   "source": [
    "# La semántica de Python: Variables y Objetos"
   ]
  },
  {
   "cell_type": "markdown",
   "metadata": {},
   "source": [
    "Esta sección trata sobre la semántica del lenguaje Python (la clase pasada vimos la syntaxis). En vez de cómo escribir \"órdenes\" para ejecutar en Python, la semántica tiene que ver con el **significado** de esas oraciones.\n",
    "\n",
    "Esta sección trata de la semántica de las variables y los objetos, que son las principales maneras en que se pueden almacenar, referenciar, y operar sobre datos (información) en un script de Python."
   ]
  },
  {
   "cell_type": "markdown",
   "metadata": {},
   "source": [
    "## Las variables son punteros"
   ]
  },
  {
   "cell_type": "markdown",
   "metadata": {},
   "source": [
    "Asignar valores a variables en Pyhon es simple: sólo hay que poner el nombre de la variable (hay algunas restricciones en cómo se pueden llamar las variables), un signo igual (`=`) y el valor que se le quiere asignar. Por ejemplo, para asignar el valor `4` a la variable `x`, entonces:"
   ]
  },
  {
   "cell_type": "code",
   "execution_count": 1,
   "metadata": {
    "collapsed": true
   },
   "outputs": [],
   "source": [
    "# asignamos 4 a x\n",
    "x = 4"
   ]
  },
  {
   "cell_type": "markdown",
   "metadata": {},
   "source": [
    "En la mayoría de los lenguajes de programación, las variables pueden ser consideradad como \"cajas\" en donde ponemos datos, en el lenguaje de programación C, por ejemplo, cuando decimos\n",
    "\n",
    "```C\n",
    "int a = 4;\n",
    "```\n",
    "\n",
    "lo que queremos decir es que hay una caja en la memoria de la máquina (de un tamaño en particular, 4 bytes, probablemente en este caso) que está guardando el valor `5`. Pero en Python, cuando escribimos\n",
    "\n",
    "```Python\n",
    "x = 4\n",
    "```\n",
    "\n",
    "estamos básicamente definiendo un *puntero* llamado `x` que apunta a otro espacio de memoria que contiene el número 4. Noten que como en Python las variables son punteros, no hay necesidad de declarar la variable, el interprete se da cuenta del tipo (magia sucede aqui), pero nosotros sólo vemos que podemos *tipear* las variables \"dinámicamente\" sólo asignando objetos de diferentes tipos:"
   ]
  },
  {
   "cell_type": "code",
   "execution_count": 3,
   "metadata": {
    "collapsed": true
   },
   "outputs": [],
   "source": [
    "x = 1         # x is an integer\n",
    "x = 'hello'   # now x is a string\n",
    "x = [1, 2, 3] # now x is a list"
   ]
  },
  {
   "cell_type": "markdown",
   "metadata": {},
   "source": [
    "Alguna gente puede extrañar typing (entendible, el compilador nos grita si nos equivocamos), sin embargo *dynamic typing* hace que Python sea más fácil de leer y escribir.\n",
    "\n",
    "Sin embargo, hay una cosa importante que tenemos que tener en cuenta debido a la característica de Python que \"variables son punteros\". Si dos variables apuntan al mismo espacio de memoria, cambiar uno va a cambiar el otro! Supongan..."
   ]
  },
  {
   "cell_type": "code",
   "execution_count": 9,
   "metadata": {
    "collapsed": true
   },
   "outputs": [],
   "source": [
    "x = [1, 2, 3]\n",
    "y = x"
   ]
  },
  {
   "cell_type": "markdown",
   "metadata": {},
   "source": [
    "Hemos creado dos variables `x` e `y`, ambas apuntando al mismo objeto (la lista `[1,2,3]`. Entonces, si modificamos la lista por cualquiera de sus nombres, veremos que la otra lista se modifica también!"
   ]
  },
  {
   "cell_type": "code",
   "execution_count": 10,
   "metadata": {
    "collapsed": false
   },
   "outputs": [
    {
     "name": "stdout",
     "output_type": "stream",
     "text": [
      "[1, 2, 3, 4]\n"
     ]
    }
   ],
   "source": [
    "y.append(4) # agregar 4 a la lista a la que apunta y\n",
    "print(x) # la lista x también se modificó!"
   ]
  },
  {
   "cell_type": "markdown",
   "metadata": {},
   "source": [
    "La conducta les puede parecer rara, pero siempre recuerden que no son \"cajitas\" las variables en Python, son como \"flechas\" que apuntan a cajas, y uno puede cambiar esas flechas como crea conveniente! Por ejemplo:"
   ]
  },
  {
   "cell_type": "code",
   "execution_count": 11,
   "metadata": {
    "collapsed": false
   },
   "outputs": [
    {
     "name": "stdout",
     "output_type": "stream",
     "text": [
      "[1, 2, 3, 4]\n",
      "something else\n"
     ]
    }
   ],
   "source": [
    "x = 'something else'\n",
    "print(y)  # y is unchanged\n",
    "print(x)"
   ]
  },
  {
   "cell_type": "markdown",
   "metadata": {},
   "source": [
    "Qué pasó aquí? Bueh, esto tiene sentido porque lo que hicimos es cambiar el puntero de `x` hacia una dirección de memoria que tiene el string `\"something else\"` almacenado en ella. Sin embargo, el puntero de `y` no se vio afectado, seguía apuntando a la lista!"
   ]
  },
  {
   "cell_type": "markdown",
   "metadata": {},
   "source": [
    "Números, strings (cadenas de caracteres) son inmutables en Python. No pueden cambiar el valor de ellos, sólo pueden cambiar los valores a los que apuntan las variables. Por ejemplo, tratemos de cambiar el string de `x`:"
   ]
  },
  {
   "cell_type": "code",
   "execution_count": 12,
   "metadata": {
    "collapsed": false
   },
   "outputs": [
    {
     "ename": "TypeError",
     "evalue": "'str' object does not support item assignment",
     "output_type": "error",
     "traceback": [
      "\u001b[0;31m---------------------------------------------------------------------------\u001b[0m",
      "\u001b[0;31mTypeError\u001b[0m                                 Traceback (most recent call last)",
      "\u001b[0;32m<ipython-input-12-41062b18ee62>\u001b[0m in \u001b[0;36m<module>\u001b[0;34m()\u001b[0m\n\u001b[0;32m----> 1\u001b[0;31m \u001b[0mx\u001b[0m\u001b[0;34m[\u001b[0m\u001b[0;36m2\u001b[0m\u001b[0;34m]\u001b[0m\u001b[0;34m=\u001b[0m\u001b[0;34m\"x\"\u001b[0m\u001b[0;34m\u001b[0m\u001b[0m\n\u001b[0m",
      "\u001b[0;31mTypeError\u001b[0m: 'str' object does not support item assignment"
     ]
    }
   ],
   "source": [
    "x[2] = \"x\""
   ]
  },
  {
   "cell_type": "markdown",
   "metadata": {},
   "source": [
    "Es decir, no puedo escribir... "
   ]
  },
  {
   "cell_type": "code",
   "execution_count": 13,
   "metadata": {
    "collapsed": false
   },
   "outputs": [
    {
     "name": "stdout",
     "output_type": "stream",
     "text": [
      "m\n"
     ]
    }
   ],
   "source": [
    "print(x[2])"
   ]
  },
  {
   "cell_type": "markdown",
   "metadata": {},
   "source": [
    "... pero si puedo leer esa posición! Con números pasa lo mismo pero es menos obvio:"
   ]
  },
  {
   "cell_type": "code",
   "execution_count": 14,
   "metadata": {
    "collapsed": false
   },
   "outputs": [
    {
     "name": "stdout",
     "output_type": "stream",
     "text": [
      "x = 15\n",
      "y = 10\n"
     ]
    }
   ],
   "source": [
    "x = 10\n",
    "y = x\n",
    "x += 5  # add 5 to x's value, and assign it to x\n",
    "print(\"x =\", x)\n",
    "print(\"y =\", y)"
   ]
  },
  {
   "cell_type": "markdown",
   "metadata": {},
   "source": [
    "Cuando llamamos `x += 5`, técnicamente no estamos modificando el valor 10 al que apuntaba `x`. Más bien, estamos cambiando la dirección de memoria, ahora `x` apunta al valor que resulta de la evaluación de 10 + 5."
   ]
  },
  {
   "cell_type": "markdown",
   "metadata": {},
   "source": [
    "## Todo es un objeto\n",
    "\n",
    "Python es un lenguaje \"orientado a objeto\", y cualquier cosa que encuentren en Python, es un objeto."
   ]
  },
  {
   "cell_type": "code",
   "execution_count": 27,
   "metadata": {
    "collapsed": false
   },
   "outputs": [
    {
     "data": {
      "text/plain": [
       "10"
      ]
     },
     "execution_count": 27,
     "metadata": {},
     "output_type": "execute_result"
    }
   ],
   "source": [
    "(5).__add__(5)"
   ]
  },
  {
   "cell_type": "code",
   "execution_count": 28,
   "metadata": {
    "collapsed": false
   },
   "outputs": [
    {
     "data": {
      "text/plain": [
       "0"
      ]
     },
     "execution_count": 28,
     "metadata": {},
     "output_type": "execute_result"
    }
   ],
   "source": [
    "len(\"\")"
   ]
  },
  {
   "cell_type": "markdown",
   "metadata": {},
   "source": [
    "Si, muy bonito, pero son edge cases, veamos un poquito más a fondo que cosa son estos objetos. Ya que las variables en Python no están \"tipeadas\" (typed), los n00bs asumen que Python es un lenguaje \"type-free\". No, ma'am! No, sir! Toda cosa tiene su tipo en Python:"
   ]
  },
  {
   "cell_type": "code",
   "execution_count": 29,
   "metadata": {
    "collapsed": false
   },
   "outputs": [
    {
     "data": {
      "text/plain": [
       "int"
      ]
     },
     "execution_count": 29,
     "metadata": {},
     "output_type": "execute_result"
    }
   ],
   "source": [
    "x = 4\n",
    "type(x)"
   ]
  },
  {
   "cell_type": "code",
   "execution_count": 30,
   "metadata": {
    "collapsed": false
   },
   "outputs": [
    {
     "data": {
      "text/plain": [
       "str"
      ]
     },
     "execution_count": 30,
     "metadata": {},
     "output_type": "execute_result"
    }
   ],
   "source": [
    "type(\"\")"
   ]
  },
  {
   "cell_type": "code",
   "execution_count": 32,
   "metadata": {
    "collapsed": false
   },
   "outputs": [
    {
     "data": {
      "text/plain": [
       "float"
      ]
     },
     "execution_count": 32,
     "metadata": {},
     "output_type": "execute_result"
    }
   ],
   "source": [
    "type(2.1)"
   ]
  },
  {
   "cell_type": "markdown",
   "metadata": {},
   "source": [
    "and so on and so forth. Some objects are actually very complex. We'll see some of them in the future, but the list `[]` is one of them:"
   ]
  },
  {
   "cell_type": "code",
   "execution_count": 33,
   "metadata": {
    "collapsed": false
   },
   "outputs": [
    {
     "data": {
      "text/plain": [
       "list"
      ]
     },
     "execution_count": 33,
     "metadata": {},
     "output_type": "execute_result"
    }
   ],
   "source": [
    "type([])"
   ]
  },
  {
   "cell_type": "markdown",
   "metadata": {},
   "source": [
    "Python tiene \"tipos\", entonces. Pero los tipos de datos de Python están asociados a los objetos mismos, no a las variables (por eso el ejemplo `type([])` funcionó).\n",
    "\n",
    "In lenguajes que implementan programación orientada a objetos como Python, un objeto es una entidad que contiene datos, *metadatos*, y funcionalidad que modifica o \"muta\" el objeto. Los objetos tienen metadatos, llamados \"atributos\" (como el `len` de los strings) y funciones que lo modifican, llamados \"métodos\". El `append()` de las listas son un método, por ejemplo. Los atributos y métodos se acceden a través del operador \".\", \"dot syntax\".\n",
    "\n",
    "Por ejemplo, el método `append` de las listas se accede a través del punto:"
   ]
  },
  {
   "cell_type": "code",
   "execution_count": 34,
   "metadata": {
    "collapsed": false
   },
   "outputs": [
    {
     "name": "stdout",
     "output_type": "stream",
     "text": [
      "[1, 2, 3, 100]\n"
     ]
    }
   ],
   "source": [
    "L = [1, 2, 3]\n",
    "L.append(100)\n",
    "print(L)"
   ]
  },
  {
   "cell_type": "markdown",
   "metadata": {},
   "source": [
    "Como vimos, no sólo objetos complejos en Python tienen atributos y métodos. Por ejemplo, los tipos numéricos tienen los atributos `real` e `imag`, por ejemplo que retornan el real e imaginario de ese númemro, si se lo ve como un número complejo."
   ]
  },
  {
   "cell_type": "code",
   "execution_count": 35,
   "metadata": {
    "collapsed": false
   },
   "outputs": [
    {
     "name": "stdout",
     "output_type": "stream",
     "text": [
      "4.5 + 0.0 i\n"
     ]
    }
   ],
   "source": [
    "x = 4.5\n",
    "print(x.real, \"+\", x.imag, 'i')"
   ]
  },
  {
   "cell_type": "markdown",
   "metadata": {},
   "source": [
    "Los métodos son como atributos, excepto que se les puede pasar parámteros a través de paréntesis (como ya vimos en la clase anterior). Por ejemplo:"
   ]
  },
  {
   "cell_type": "code",
   "execution_count": 39,
   "metadata": {
    "collapsed": false
   },
   "outputs": [
    {
     "data": {
      "text/plain": [
       "False"
      ]
     },
     "execution_count": 39,
     "metadata": {},
     "output_type": "execute_result"
    }
   ],
   "source": [
    "x = 4.5\n",
    "x.is_integer()"
   ]
  },
  {
   "cell_type": "code",
   "execution_count": 37,
   "metadata": {
    "collapsed": false
   },
   "outputs": [
    {
     "data": {
      "text/plain": [
       "True"
      ]
     },
     "execution_count": 37,
     "metadata": {},
     "output_type": "execute_result"
    }
   ],
   "source": [
    "x = 4.0\n",
    "x.is_integer()"
   ]
  },
  {
   "cell_type": "markdown",
   "metadata": {},
   "source": [
    "Cuando decimos que en Python *todo* es un objeto, no es broma..."
   ]
  },
  {
   "cell_type": "code",
   "execution_count": 40,
   "metadata": {
    "collapsed": false
   },
   "outputs": [
    {
     "data": {
      "text/plain": [
       "builtin_function_or_method"
      ]
     },
     "execution_count": 40,
     "metadata": {},
     "output_type": "execute_result"
    }
   ],
   "source": [
    "type(x.is_integer)"
   ]
  }
 ],
 "metadata": {
  "anaconda-cloud": {},
  "kernelspec": {
   "display_name": "Python [conda env:py35]",
   "language": "python",
   "name": "conda-env-py35-py"
  },
  "language_info": {
   "codemirror_mode": {
    "name": "ipython",
    "version": 3
   },
   "file_extension": ".py",
   "mimetype": "text/x-python",
   "name": "python",
   "nbconvert_exporter": "python",
   "pygments_lexer": "ipython3",
   "version": "3.5.2"
  }
 },
 "nbformat": 4,
 "nbformat_minor": 1
}
