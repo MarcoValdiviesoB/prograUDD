{
 "cells": [
  {
   "cell_type": "code",
   "execution_count": 1,
   "metadata": {
    "collapsed": true
   },
   "outputs": [],
   "source": [
    "import random"
   ]
  },
  {
   "cell_type": "code",
   "execution_count": 8,
   "metadata": {
    "collapsed": false
   },
   "outputs": [
    {
     "name": "stdout",
     "output_type": "stream",
     "text": [
      "6\n",
      "1\n",
      "6\n",
      "5\n",
      "2\n",
      "3\n",
      "5\n",
      "5\n",
      "5\n",
      "6\n"
     ]
    }
   ],
   "source": [
    "random.seed(12345678)\n",
    "for i in range(10):\n",
    "    print(random.randint(1,6))"
   ]
  },
  {
   "cell_type": "markdown",
   "metadata": {},
   "source": [
    "## Probabilidad que al tirar 4 dados, salen todos distintos"
   ]
  },
  {
   "cell_type": "code",
   "execution_count": 9,
   "metadata": {
    "collapsed": false
   },
   "outputs": [
    {
     "name": "stdout",
     "output_type": "stream",
     "text": [
      "Probabilidad =  0.27776234653630355\n"
     ]
    }
   ],
   "source": [
    "casos_totales = 0\n",
    "casos_favorables = 0\n",
    "while casos_favorables < 10000:\n",
    "    veces = [0,0,0,0,0,0,0]\n",
    "    for i in range(4):\n",
    "        veces[random.randint(1,6)] += 1\n",
    "    son_distintos = True\n",
    "    for i in range(7):\n",
    "        if veces[i] > 1:\n",
    "            son_distintos = False\n",
    "    casos_totales += 1\n",
    "    if son_distintos == True:\n",
    "        casos_favorables += 1\n",
    "print(\"Probabilidad = \", casos_favorables/casos_totales)"
   ]
  },
  {
   "cell_type": "code",
   "execution_count": 10,
   "metadata": {
    "collapsed": false
   },
   "outputs": [
    {
     "data": {
      "text/plain": [
       "[0, 1, 1, 0, 0, 1, 1]"
      ]
     },
     "execution_count": 10,
     "metadata": {},
     "output_type": "execute_result"
    }
   ],
   "source": [
    "veces"
   ]
  },
  {
   "cell_type": "markdown",
   "metadata": {},
   "source": [
    "# Juego LOTO"
   ]
  },
  {
   "cell_type": "code",
   "execution_count": 11,
   "metadata": {
    "collapsed": true
   },
   "outputs": [],
   "source": [
    "mi_carton = [2, 4, 25, 29, 37, 38]"
   ]
  },
  {
   "cell_type": "code",
   "execution_count": 14,
   "metadata": {
    "collapsed": false
   },
   "outputs": [
    {
     "name": "stdout",
     "output_type": "stream",
     "text": [
      "290284\n"
     ]
    }
   ],
   "source": [
    "gane = False\n",
    "experimentos = 0\n",
    "veces = [0,0,0,0,0,0,0]\n",
    "while gane == False:\n",
    "    experimentos += 1\n",
    "    sorteados = []\n",
    "    for i in range(7):\n",
    "        candidato = random.randint(1,41)\n",
    "        while candidato in sorteados:\n",
    "            candidato = random.randint(1,41)\n",
    "        sorteados.append(candidato)\n",
    "    puntos = 0\n",
    "    for i in mi_carton:\n",
    "        for j in sorteados:\n",
    "            if i == j:\n",
    "                puntos += 1\n",
    "    veces[puntos] += 1\n",
    "    if puntos == 6:\n",
    "        gane = True\n",
    "print(experimentos)"
   ]
  },
  {
   "cell_type": "code",
   "execution_count": 15,
   "metadata": {
    "collapsed": false
   },
   "outputs": [
    {
     "name": "stdout",
     "output_type": "stream",
     "text": [
      "[86707, 125933, 62658, 13686, 1251, 48, 1]\n"
     ]
    }
   ],
   "source": [
    "print(veces)"
   ]
  },
  {
   "cell_type": "code",
   "execution_count": 16,
   "metadata": {
    "collapsed": false
   },
   "outputs": [
    {
     "name": "stdout",
     "output_type": "stream",
     "text": [
      "Proba de sacar 0 puntos = 0.2991076392873569\n"
     ]
    }
   ],
   "source": [
    "print(\"Proba de sacar 0 puntos =\", 35*34*33*32*31*30*29/41/40/39/38/37/36/35)"
   ]
  },
  {
   "cell_type": "code",
   "execution_count": 17,
   "metadata": {
    "collapsed": false
   },
   "outputs": [
    {
     "data": {
      "text/plain": [
       "0.29869713797522424"
      ]
     },
     "execution_count": 17,
     "metadata": {},
     "output_type": "execute_result"
    }
   ],
   "source": [
    "veces[0]/experimentos"
   ]
  },
  {
   "cell_type": "code",
   "execution_count": 18,
   "metadata": {
    "collapsed": false
   },
   "outputs": [
    {
     "name": "stdout",
     "output_type": "stream",
     "text": [
      "Proba de sacar 1 punto = 0.43319037414031003\n"
     ]
    }
   ],
   "source": [
    "print(\"Proba de sacar 1 punto =\", 7*6*35*34*33*32*31*30/41/40/39/38/37/36/35)"
   ]
  },
  {
   "cell_type": "code",
   "execution_count": 19,
   "metadata": {
    "collapsed": false
   },
   "outputs": [
    {
     "name": "stdout",
     "output_type": "stream",
     "text": [
      "0.43382687299334444\n"
     ]
    }
   ],
   "source": [
    "print(veces[1]/experimentos)"
   ]
  },
  {
   "cell_type": "code",
   "execution_count": 20,
   "metadata": {
    "collapsed": false
   },
   "outputs": [
    {
     "name": "stdout",
     "output_type": "stream",
     "text": [
      "Proba de sacar 2 puntos = 0.21659518707015502\n"
     ]
    }
   ],
   "source": [
    "print(\"Proba de sacar 2 puntos =\", 21*6*5*35*34*33*32*31/41/40/39/38/37/36/35)"
   ]
  },
  {
   "cell_type": "code",
   "execution_count": 21,
   "metadata": {
    "collapsed": false
   },
   "outputs": [
    {
     "name": "stdout",
     "output_type": "stream",
     "text": [
      "0.2158506841575836\n"
     ]
    }
   ],
   "source": [
    "print(veces[2]/experimentos)"
   ]
  }
 ],
 "metadata": {
  "kernelspec": {
   "display_name": "Python 3",
   "language": "python",
   "name": "python3"
  },
  "language_info": {
   "codemirror_mode": {
    "name": "ipython",
    "version": 3
   },
   "file_extension": ".py",
   "mimetype": "text/x-python",
   "name": "python",
   "nbconvert_exporter": "python",
   "pygments_lexer": "ipython3",
   "version": "3.6.0"
  }
 },
 "nbformat": 4,
 "nbformat_minor": 2
}
