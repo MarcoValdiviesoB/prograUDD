{
 "cells": [
  {
   "cell_type": "markdown",
   "metadata": {},
   "source": [
    "**Metadata**: Estos notebooks están (más que) inspirados en el excelente trabajo de [Jake van der Plass](https://github.com/jakevdp/) y su [Whirlwind Tour Of Python](https://github.com/jakevdp/WhirlwindTourOfPython). Ver A Whirlwind Tour of Python by Jake VanderPlas (O’Reilly). Copyright 2016 O’Reilly Media, Inc., 978-1-491-96465-1.\". Estos notebooks están protegidos con la misma licencia de los originales, [Creative Commons 0](). Todas las notas están disponibles en [PrograUDD1](https://github.com/leoferres/prograUDD)."
   ]
  },
  {
   "cell_type": "markdown",
   "metadata": {},
   "source": [
    "# La sintaxis de Python\n",
    "\n",
    "La sintaxis de Python es considerada tan limpia que a veces a Python se le dice \"executable pseudo-code\", e hizo que su adaptación haya sido muy extensa.\n",
    "\n",
    "Considere el siguiente código:"
   ]
  },
  {
   "cell_type": "code",
   "execution_count": 2,
   "metadata": {
    "collapsed": false
   },
   "outputs": [
    {
     "name": "stdout",
     "output_type": "stream",
     "text": [
      "lower: [0, 1, 2, 3, 4]\n",
      "upper: [5, 6, 7, 8, 9]\n"
     ]
    }
   ],
   "source": [
    "# set the midpoint\n",
    "midpoint = 5\n",
    "\n",
    "# make two empty lists\n",
    "lower = []; upper = []\n",
    "\n",
    "# split the numbers into lower and upper\n",
    "for i in range(10):\n",
    "    if (i < midpoint):\n",
    "        lower.append(i)\n",
    "    else:\n",
    "        upper.append(i)\n",
    "        \n",
    "print(\"lower:\", lower)\n",
    "print(\"upper:\", upper)"
   ]
  },
  {
   "cell_type": "markdown",
   "metadata": {},
   "source": [
    "Este pequeño script muestra algunos aspectos importantes de la sintaxis de Python."
   ]
  },
  {
   "cell_type": "markdown",
   "metadata": {},
   "source": [
    "# Comentarios\n",
    "\n",
    "Los comentarios en Python empiezan con un \"pound\", \"hash\" o numeral `#` y cualquier cosa que lo siga hasta el final de la línea es ignorada por el intérprete. Es decir, pueden tener comentarios que toman toda la línea, o sólo parte de ella.\n",
    "\n",
    "En el ejemplo de arriba hay tres comentarios:\n",
    "\n",
    "```python\n",
    "# set the midpoint\n",
    "\n",
    "# make two empty lists\n",
    "lower = []; upper = []\n",
    "\n",
    "# or\n",
    "lower = []; upper = [] # make two empty lists\n",
    "\n",
    "# split the numbers into lower and upper\n",
    "```\n",
    "\n",
    "Python no tiene una manera de hacer comentarios multilínea como C, por ejemplo (`/* ... */`)."
   ]
  },
  {
   "cell_type": "markdown",
   "metadata": {},
   "source": [
    "## \"Enter\" termina una línea ejecutable (una sentencia, ?)\n",
    "\n",
    "The line \n",
    "\n",
    "```Python\n",
    "midpoint = 5\n",
    "```\n",
    "\n",
    "Esta operación se llama *asignación*, y básicamente consiste en crear una *variable* y darle un valor en particular: 5, en este caso. Noten que no hay nada que marque el final de la sentencia, ni `{...}` ni `;` ni nada por el estilo (solo Enter). Esto es bastante diferente de los lenguajes de programación como C o Java, que necesitaban los `;` (a lo mejor razones históricas?)\n",
    "\n",
    "Sin embargo si por alguna razón necesitan de hecho \"span\" más de una línea.\n",
    "\n",
    "\n",
    "```Python\n",
    "x = 1 + 2 + 3 + 4 +\\\n",
    "    5 + 6 + 7 + 8\n",
    "```\n",
    "\n",
    "también es posible continuar en la siguiente línea si existen paréntesis, y sin usar el operador `\\`, así:\n",
    "\n",
    "```Python\n",
    "x = (1 + 2 + 3 + 4 +\n",
    "     5 + 6 + 7 + 8)\n",
    "```\n",
    "\n",
    "Los dioses del Python igual recomiendan el segundo método, en vez del símbolo de continuación: `\\`. **Alguno se anima a decir por qué?**"
   ]
  },
  {
   "cell_type": "markdown",
   "metadata": {},
   "source": [
    "## Los espacios importan!\n",
    "\n",
    "Vean el siguiente snippet de código:\n",
    "\n",
    "```Python\n",
    "for i in range(10):\n",
    "    if i < midpoint:\n",
    "        lower.append(i)\n",
    "    else:\n",
    "        upper.append(i)\n",
    "```\n",
    "\n",
    "Aqui hay varias cosas que notar. Lo primero es que hay un condicional (el *scope* introducido por el `if`), y un \"loop\" (o ciclo), el scope introducido por el `for`. No es tan importante a esta altura, pero nos presenta lo que ha sido la caracteristica mas controversial de la sintaxis de Python: el espacio en blanco tiene semántica!\n",
    "\n",
    "En otros lenguajes de programación, un bloque (scope) se define explicitamente con algun símbolo. Cuál es el simbolo que define scope en el siguiente código?\n",
    "\n",
    "```C\n",
    "// C code\n",
    "for(int i=0; i<100; i++) {\n",
    "      // curly braces indicate code block\n",
    "      total += i;}\n",
    "```\n",
    "\n",
    "y en este:\n",
    "\n",
    "```Go\n",
    "package main\n",
    "import \"fmt\"\n",
    "func main() {\n",
    "\tsum := 0\n",
    "\tfor i := 0; i < 10; i++ {\n",
    "\t\tsum += i\n",
    "\t}\n",
    "\tfmt.Println(sum)\n",
    "}\n",
    "```\n",
    "\n",
    "En Python los scope (o bloques de código) se determinan por indentación.\n",
    "\n",
    "```Python\n",
    "for i in range(100):\n",
    "    # indentation indicates code block\n",
    "    total += i\n",
    "```\n",
    "\n",
    "y el scope siempre se precede con `:` en la línea anterior.\n",
    "\n",
    "A mí me gusta como queda la indentación... es más limpia que la `{}`, pero al mismo puede producir confusion en los n00bs. Lo siguiente produce diferentes resultados:\n",
    "\n",
    "```\n",
    ">>> if x < 4:         >>> if x < 4:\n",
    "........y = x * 2     ........y = x * 2\n",
    "........print(x)      ....print(x)\n",
    "```\n",
    "\n",
    "El código de la izquierda va a ser ejecutado sólo si el valor de `x` es menor que 4, mientras que el de la derecha se va a ejecutar no importa el valor de `x`.\n",
    "\n",
    "A mí me parece más leible el código con espacios que con curlies, a ustedes?\n",
    "\n",
    "Por último, el número de espacios en blanco no es importante. Sólo es necesario que sean sistemáticos, es decir, no pueden ir cambiando en un script entre 2 y 4 espacios, digamos. La convención es usar 4 espacios (y nunca \"tabs\"), y esta es la convención que usamos en estos notebooks. (Aunque a mí me guste los 2 espacios en C :( )."
   ]
  },
  {
   "cell_type": "markdown",
   "metadata": {},
   "source": [
    "Los espacios en blanco adentro de las líneas no tienen efecto, sólo **antes** de empezar la línea. Lo siguiente es equivalente:\n",
    "\n",
    "```Python\n",
    "x=1+2\n",
    "x = 1 + 2\n",
    "x             =        1    +                2\n",
    "```\n",
    "\n",
    "Obviamente, abusar esta flexibilidad del lenguaje afecta la legibilidad del código. La tercera línea se ve bastante espantosa. La primera en menor medida, y la del medio es la que (a mi) me hace más sentido. Comparen por ejemplo\n",
    "\n",
    "```Python\n",
    "x=10**-2\n",
    "```\n",
    "\n",
    "con\n",
    "\n",
    "```Python\n",
    "x = 10 ** -2\n",
    "```"
   ]
  },
  {
   "cell_type": "markdown",
   "metadata": {},
   "source": [
    "De hecho se sugiere poner espacios entre los operadores binarios."
   ]
  },
  {
   "cell_type": "markdown",
   "metadata": {},
   "source": [
    "## Parentesis\n",
    "\n",
    "Los parentesis son para agrupar términos y para hacer llamada a funciones con parametros. Primero, se usan para agrupar los términos de los operadores matemáticos:"
   ]
  },
  {
   "cell_type": "code",
   "execution_count": 6,
   "metadata": {
    "collapsed": false
   },
   "outputs": [
    {
     "name": "stdout",
     "output_type": "stream",
     "text": [
      "14\n",
      "10\n",
      "10\n"
     ]
    }
   ],
   "source": [
    "print(2*(3+4))\n",
    "print(2*3+4)\n",
    "print((2*3)+4)"
   ]
  },
  {
   "cell_type": "markdown",
   "metadata": {},
   "source": [
    "Los parentesis también se usan para pasar parámetros a una función cuando se llama. En el siguiente snippet de código, la función `print()` se usa para mostrar, por ej, los contenidos de una variable. La función se \"llama\" con un par de parentesis con los *argumentos* de la función adentro."
   ]
  },
  {
   "cell_type": "code",
   "execution_count": 3,
   "metadata": {
    "collapsed": false
   },
   "outputs": [
    {
     "name": "stdout",
     "output_type": "stream",
     "text": [
      "first value: 3\n"
     ]
    }
   ],
   "source": [
    "x = 3\n",
    "print('first value:', x)"
   ]
  },
  {
   "cell_type": "code",
   "execution_count": 8,
   "metadata": {
    "collapsed": false
   },
   "outputs": [
    {
     "name": "stdout",
     "output_type": "stream",
     "text": [
      "second value: 2\n"
     ]
    }
   ],
   "source": [
    "print('second value:', 2)"
   ]
  },
  {
   "cell_type": "markdown",
   "metadata": {},
   "source": [
    "Algunas funciones se llaman sin argumentos y actuan sobre el objeto que evalúan. Los parentesis deben ser usados igual, aunque la función tenga argumentos."
   ]
  },
  {
   "cell_type": "code",
   "execution_count": 10,
   "metadata": {
    "collapsed": false
   },
   "outputs": [
    {
     "name": "stdout",
     "output_type": "stream",
     "text": [
      "[1, 2, 3, 4]\n"
     ]
    }
   ],
   "source": [
    "L = [4,2,3,1]\n",
    "L.sort()\n",
    "print(L)"
   ]
  },
  {
   "cell_type": "markdown",
   "metadata": {},
   "source": [
    "More on this: https://www.python.org/dev/peps/pep-0008/"
   ]
  }
 ],
 "metadata": {
  "anaconda-cloud": {},
  "kernelspec": {
   "display_name": "Python [conda env:py35]",
   "language": "python",
   "name": "conda-env-py35-py"
  },
  "language_info": {
   "codemirror_mode": {
    "name": "ipython",
    "version": 3
   },
   "file_extension": ".py",
   "mimetype": "text/x-python",
   "name": "python",
   "nbconvert_exporter": "python",
   "pygments_lexer": "ipython3",
   "version": "3.5.2"
  }
 },
 "nbformat": 4,
 "nbformat_minor": 1
}
