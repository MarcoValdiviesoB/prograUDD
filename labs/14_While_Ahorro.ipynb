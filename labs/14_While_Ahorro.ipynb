{
 "cells": [
  {
   "cell_type": "markdown",
   "metadata": {},
   "source": [
    "### Suponga que necesita ahorrar un pie de alguna propiedad y usted mes a mes dispondrá de una cantidad de dinero fija, si con el total del ahorro parcial toma un deposito a plazo, cuantos meses demorará en conseguir el monto objetivo. "
   ]
  },
  {
   "cell_type": "code",
   "execution_count": 1,
   "metadata": {
    "collapsed": true
   },
   "outputs": [],
   "source": [
    "montopie = 0"
   ]
  },
  {
   "cell_type": "code",
   "execution_count": 2,
   "metadata": {
    "collapsed": false
   },
   "outputs": [
    {
     "name": "stdout",
     "output_type": "stream",
     "text": [
      "Ingrese el monto de su pie: -10\n",
      "Ingrese el monto de su pie: -100000\n",
      "Ingrese el monto de su pie: 1000000\n"
     ]
    }
   ],
   "source": [
    "# Ponemos un while, de modo de obligar al usuario a poner un pie positivo\n",
    "while (montopie <= 0):\n",
    "    montopie = int(input(\"Ingrese el monto de su pie: \"))"
   ]
  },
  {
   "cell_type": "code",
   "execution_count": 3,
   "metadata": {
    "collapsed": false
   },
   "outputs": [
    {
     "name": "stdout",
     "output_type": "stream",
     "text": [
      "Ingrese cuanto ahorrara mensualmente: 10000\n"
     ]
    }
   ],
   "source": [
    "ahorromensual = int(input(\"Ingrese cuanto ahorrara mensualmente: \"))"
   ]
  },
  {
   "cell_type": "code",
   "execution_count": 4,
   "metadata": {
    "collapsed": false
   },
   "outputs": [
    {
     "name": "stdout",
     "output_type": "stream",
     "text": [
      "Ingrese la tasa de interes de su banco: .003\n"
     ]
    }
   ],
   "source": [
    "tasainteres = float(input(\"Ingrese la tasa de interes de su banco: \"))"
   ]
  },
  {
   "cell_type": "code",
   "execution_count": 5,
   "metadata": {
    "collapsed": true
   },
   "outputs": [],
   "source": [
    "ahorro = ahorromensual"
   ]
  },
  {
   "cell_type": "code",
   "execution_count": 6,
   "metadata": {
    "collapsed": true
   },
   "outputs": [],
   "source": [
    "meses = 0"
   ]
  },
  {
   "cell_type": "code",
   "execution_count": 7,
   "metadata": {
    "collapsed": false
   },
   "outputs": [
    {
     "name": "stdout",
     "output_type": "stream",
     "text": [
      "mes = 0  - ahorro =  10000\n",
      "mes = 1  - ahorro =  20030\n",
      "mes = 2  - ahorro =  30090\n",
      "mes = 3  - ahorro =  40180\n",
      "mes = 4  - ahorro =  50300\n",
      "mes = 5  - ahorro =  60450\n",
      "mes = 6  - ahorro =  70631\n",
      "mes = 7  - ahorro =  80842\n",
      "mes = 8  - ahorro =  91084\n",
      "mes = 9  - ahorro =  101357\n",
      "mes = 10  - ahorro =  111661\n",
      "mes = 11  - ahorro =  121995\n",
      "mes = 12  - ahorro =  132360\n",
      "mes = 13  - ahorro =  142757\n",
      "mes = 14  - ahorro =  153185\n",
      "mes = 15  - ahorro =  163644\n",
      "mes = 16  - ahorro =  174134\n",
      "mes = 17  - ahorro =  184656\n",
      "mes = 18  - ahorro =  195209\n",
      "mes = 19  - ahorro =  205794\n",
      "mes = 20  - ahorro =  216411\n",
      "mes = 21  - ahorro =  227060\n",
      "mes = 22  - ahorro =  237741\n",
      "mes = 23  - ahorro =  248454\n",
      "mes = 24  - ahorro =  259199\n",
      "mes = 25  - ahorro =  269976\n",
      "mes = 26  - ahorro =  280785\n",
      "mes = 27  - ahorro =  291627\n",
      "mes = 28  - ahorro =  302501\n",
      "mes = 29  - ahorro =  313408\n",
      "mes = 30  - ahorro =  324348\n",
      "mes = 31  - ahorro =  335321\n",
      "mes = 32  - ahorro =  346326\n",
      "mes = 33  - ahorro =  357364\n",
      "mes = 34  - ahorro =  368436\n",
      "mes = 35  - ahorro =  379541\n",
      "mes = 36  - ahorro =  390679\n",
      "mes = 37  - ahorro =  401851\n",
      "mes = 38  - ahorro =  413056\n",
      "mes = 39  - ahorro =  424295\n",
      "mes = 40  - ahorro =  435567\n",
      "mes = 41  - ahorro =  446873\n",
      "mes = 42  - ahorro =  458213\n",
      "mes = 43  - ahorro =  469587\n",
      "mes = 44  - ahorro =  480995\n",
      "mes = 45  - ahorro =  492437\n",
      "mes = 46  - ahorro =  503914\n",
      "mes = 47  - ahorro =  515425\n",
      "mes = 48  - ahorro =  526971\n",
      "mes = 49  - ahorro =  538551\n",
      "mes = 50  - ahorro =  550166\n",
      "mes = 51  - ahorro =  561816\n",
      "mes = 52  - ahorro =  573501\n",
      "mes = 53  - ahorro =  585221\n",
      "mes = 54  - ahorro =  596976\n",
      "mes = 55  - ahorro =  608766\n",
      "mes = 56  - ahorro =  620592\n",
      "mes = 57  - ahorro =  632453\n",
      "mes = 58  - ahorro =  644350\n",
      "mes = 59  - ahorro =  656283\n",
      "mes = 60  - ahorro =  668251\n",
      "mes = 61  - ahorro =  680255\n",
      "mes = 62  - ahorro =  692295\n",
      "mes = 63  - ahorro =  704371\n",
      "mes = 64  - ahorro =  716484\n",
      "mes = 65  - ahorro =  728633\n",
      "mes = 66  - ahorro =  740818\n",
      "mes = 67  - ahorro =  753040\n",
      "mes = 68  - ahorro =  765299\n",
      "mes = 69  - ahorro =  777594\n",
      "mes = 70  - ahorro =  789926\n",
      "mes = 71  - ahorro =  802295\n",
      "mes = 72  - ahorro =  814701\n",
      "mes = 73  - ahorro =  827145\n",
      "mes = 74  - ahorro =  839626\n",
      "mes = 75  - ahorro =  852144\n",
      "mes = 76  - ahorro =  864700\n",
      "mes = 77  - ahorro =  877294\n",
      "mes = 78  - ahorro =  889925\n",
      "mes = 79  - ahorro =  902594\n",
      "mes = 80  - ahorro =  915301\n",
      "mes = 81  - ahorro =  928046\n",
      "mes = 82  - ahorro =  940830\n",
      "mes = 83  - ahorro =  953652\n",
      "mes = 84  - ahorro =  966512\n",
      "mes = 85  - ahorro =  979411\n",
      "mes = 86  - ahorro =  992349\n"
     ]
    }
   ],
   "source": [
    "while (ahorro < montopie):\n",
    "    # esta impresion es opcional, para ver como crece el ahorro mes a mes\n",
    "    print(\"mes =\", meses, \" - ahorro = \", ahorro)\n",
    "    meses += 1\n",
    "    ahorro += int(tasainteres*ahorro)\n",
    "    ahorro += ahorromensual"
   ]
  },
  {
   "cell_type": "code",
   "execution_count": 8,
   "metadata": {
    "collapsed": false
   },
   "outputs": [
    {
     "name": "stdout",
     "output_type": "stream",
     "text": [
      "mes = 87  - ahorro =  1005326\n"
     ]
    }
   ],
   "source": [
    "print(\"mes =\", meses, \" - ahorro = \", ahorro)"
   ]
  }
 ],
 "metadata": {
  "kernelspec": {
   "display_name": "Python 3",
   "language": "python",
   "name": "python3"
  },
  "language_info": {
   "codemirror_mode": {
    "name": "ipython",
    "version": 3
   },
   "file_extension": ".py",
   "mimetype": "text/x-python",
   "name": "python",
   "nbconvert_exporter": "python",
   "pygments_lexer": "ipython3",
   "version": "3.6.0"
  }
 },
 "nbformat": 4,
 "nbformat_minor": 2
}
