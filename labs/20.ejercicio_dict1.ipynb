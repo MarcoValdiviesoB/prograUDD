{
 "cells": [
  {
   "cell_type": "markdown",
   "metadata": {},
   "source": [
    "## Control 5. Scrabble\n",
    "TI2 Sección 1 1-2017"
   ]
  },
  {
   "cell_type": "markdown",
   "metadata": {},
   "source": [
    "Usted cuenta con un diccionario \"letras\" para jugar Scrabble, en el cual cada letra posee una tupla, donde el primer elemento es el puntaje de la letra y el segundo representa cuantas fichas existen de esa letra."
   ]
  },
  {
   "cell_type": "code",
   "execution_count": 12,
   "metadata": {
    "collapsed": true
   },
   "outputs": [],
   "source": [
    "letras = {\"A\" : (1,12) , \"B\" : (3,2) , \"C\" : (3,4), \"D\" : (2,5), \"E\" : (1,12), \"F\" : (4,1),\n",
    "          \"G\" : (2,2) , \"H\" : (4,2) , \"I\" : (1,6), \"J\" : (8,1), \"L\" : (1,4), \"M\" : (3,2),\n",
    "          \"N\" : (1,5) , \"O\" : (1,9) , \"P\" : (3,2), \"Q\" : (5,1), \"R\" : (1,5), \"S\" : (1,6),\n",
    "          \"T\" : (1,4) , \"U\" : (1,5) , \"V\" : (4,1), \"X\" : (8,1), \"Y\" : (4,1), \"Z\" : (10,1)}"
   ]
  },
  {
   "cell_type": "markdown",
   "metadata": {},
   "source": [
    "Debe completar la funcion \"calcula_puntaje\", que recibe como parametro un texto y calcula el puntaje de su texto como la suma de los puntos de acuerdo al diccionario, en el caso de no haber fichas suficientes debe retornar 0 puntos, pues no es posible crearlo. Si su texto posee un caracter que no se encuentra en el diccionario, omita esa letra en el calculo del puntaje."
   ]
  },
  {
   "cell_type": "code",
   "execution_count": 13,
   "metadata": {
    "collapsed": true
   },
   "outputs": [],
   "source": [
    "def calcula_puntaje(str, dict):\n",
    "    puntos = 0\n",
    "    usadas = {}\n",
    "    for i in str.upper():\n",
    "        if i not in usadas.keys():\n",
    "            usadas[i] = 1\n",
    "        else:\n",
    "            usadas[i] += 1\n",
    "    for i in usadas.keys():\n",
    "        if i in dict.keys():\n",
    "            if usadas[i] > dict[i][1]:\n",
    "                return 0\n",
    "            else:\n",
    "                puntos += usadas[i] * dict[i][0]\n",
    "    return puntos"
   ]
  },
  {
   "cell_type": "markdown",
   "metadata": {},
   "source": [
    "ATENCION: No ingrese acentos, si su nombre los posee."
   ]
  },
  {
   "cell_type": "code",
   "execution_count": 14,
   "metadata": {
    "collapsed": false
   },
   "outputs": [
    {
     "name": "stdout",
     "output_type": "stream",
     "text": [
      "Ingrese su nombre y apellido: andres nuñez\n"
     ]
    }
   ],
   "source": [
    "nombre = input(\"Ingrese su nombre y apellido: \")"
   ]
  },
  {
   "cell_type": "code",
   "execution_count": 15,
   "metadata": {
    "collapsed": false
   },
   "outputs": [
    {
     "data": {
      "text/plain": [
       "20"
      ]
     },
     "execution_count": 15,
     "metadata": {},
     "output_type": "execute_result"
    }
   ],
   "source": [
    "calcula_puntaje(nombre.upper(), letras)"
   ]
  }
 ],
 "metadata": {
  "kernelspec": {
   "display_name": "Python 3",
   "language": "python",
   "name": "python3"
  },
  "language_info": {
   "codemirror_mode": {
    "name": "ipython",
    "version": 3
   },
   "file_extension": ".py",
   "mimetype": "text/x-python",
   "name": "python",
   "nbconvert_exporter": "python",
   "pygments_lexer": "ipython3",
   "version": "3.6.0"
  }
 },
 "nbformat": 4,
 "nbformat_minor": 2
}
