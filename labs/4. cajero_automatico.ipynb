{
 "cells": [
  {
   "cell_type": "code",
   "execution_count": 1,
   "metadata": {
    "collapsed": false
   },
   "outputs": [
    {
     "name": "stdout",
     "output_type": "stream",
     "text": [
      "Ingrese el monto a girar: 41\n"
     ]
    }
   ],
   "source": [
    "monto = input(\"Ingrese el monto a girar: \")"
   ]
  },
  {
   "cell_type": "code",
   "execution_count": 2,
   "metadata": {
    "collapsed": false
   },
   "outputs": [],
   "source": [
    "if monto.isnumeric() :\n",
    "    monto = int(monto)\n",
    "else:\n",
    "    print(\"Monto invalido\")"
   ]
  },
  {
   "cell_type": "code",
   "execution_count": 3,
   "metadata": {
    "collapsed": true
   },
   "outputs": [],
   "source": [
    "if monto < 4 and monto > 200:\n",
    "    print(\"Monto fuera de rango\")"
   ]
  },
  {
   "cell_type": "raw",
   "metadata": {},
   "source": [
    "los print debiesen terminar la ejecucion, por ahora lo dejaremos asi."
   ]
  },
  {
   "cell_type": "code",
   "execution_count": 4,
   "metadata": {
    "collapsed": true
   },
   "outputs": [],
   "source": [
    "b20k = monto // 20"
   ]
  },
  {
   "cell_type": "code",
   "execution_count": 5,
   "metadata": {
    "collapsed": true
   },
   "outputs": [],
   "source": [
    "r20k = monto % 20"
   ]
  },
  {
   "cell_type": "code",
   "execution_count": 6,
   "metadata": {
    "collapsed": true
   },
   "outputs": [],
   "source": [
    "b5k = r20k // 5"
   ]
  },
  {
   "cell_type": "code",
   "execution_count": 7,
   "metadata": {
    "collapsed": true
   },
   "outputs": [],
   "source": [
    "r5k = r20k % 5"
   ]
  },
  {
   "cell_type": "code",
   "execution_count": 8,
   "metadata": {
    "collapsed": true
   },
   "outputs": [],
   "source": [
    "b2k = r5k // 2"
   ]
  },
  {
   "cell_type": "code",
   "execution_count": 9,
   "metadata": {
    "collapsed": true
   },
   "outputs": [],
   "source": [
    "r2k = r5k % 2"
   ]
  },
  {
   "cell_type": "code",
   "execution_count": 10,
   "metadata": {
    "collapsed": true
   },
   "outputs": [],
   "source": [
    "if r2k == 1:\n",
    "    # quito 5 mil y entrego 6 mil, pues debia luca.\n",
    "    b5k = b5k - 1\n",
    "    b2k = b2k + 3\n",
    "    if b5k < 0:\n",
    "        # quito uno de 20 y doy 4 de 5.\n",
    "        b20k -= 1\n",
    "        b5k += 4"
   ]
  },
  {
   "cell_type": "code",
   "execution_count": 11,
   "metadata": {
    "collapsed": false
   },
   "outputs": [
    {
     "name": "stdout",
     "output_type": "stream",
     "text": [
      "Para 41 mil damos 1 billetes de 20 mil, 3 billetes de 5 mil y 3 billetes de 2 mil.\n"
     ]
    }
   ],
   "source": [
    "print(\"Para\", monto, \"mil damos\", b20k, \"billetes de 20 mil,\", b5k, \"billetes de 5 mil y\", b2k, \"billetes de 2 mil.\")"
   ]
  }
 ],
 "metadata": {
  "kernelspec": {
   "display_name": "Python 3",
   "language": "python",
   "name": "python3"
  },
  "language_info": {
   "codemirror_mode": {
    "name": "ipython",
    "version": 3
   },
   "file_extension": ".py",
   "mimetype": "text/x-python",
   "name": "python",
   "nbconvert_exporter": "python",
   "pygments_lexer": "ipython3",
   "version": "3.6.0"
  }
 },
 "nbformat": 4,
 "nbformat_minor": 2
}
