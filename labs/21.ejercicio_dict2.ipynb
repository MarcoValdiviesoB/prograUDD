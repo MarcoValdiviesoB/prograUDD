{
 "cells": [
  {
   "cell_type": "markdown",
   "metadata": {},
   "source": [
    "## Control 5 - Tabla Periodica de los Elementos\n",
    "TI2 - Sección 3"
   ]
  },
  {
   "cell_type": "markdown",
   "metadata": {},
   "source": [
    "Usted cuenta con el diccionario \"simbolos\" que contiene los elementos quimicos, y una tupla asociada que contiene el número de atomos y la descripción del elemento."
   ]
  },
  {
   "cell_type": "code",
   "execution_count": 1,
   "metadata": {
    "collapsed": true
   },
   "outputs": [],
   "source": [
    "simbolos = {\"AC\" : (89, \"Actinio\"),  \"AG\" : (47, \"Plata\"),  \"AL\" : (13, \"Aluminio\"),  \"AM\" : (95, \"Americio\"), \n",
    "\"AR\" : (18, \"Argón\"),  \"AS\" : (33, \"Arsénico\"),  \"AT\" : (85, \"Astato\"),  \"AU\" : (79, \"Oro\"), \n",
    "\"B\" : (5, \"Boro\"),  \"BA\" : (56, \"Bario\"),  \"BE\" : (4, \"Berilio\"),  \"BH\" : (107, \"Bohrio\"), \n",
    "\"BI\" : (83, \"Bismuto\"),  \"BK\" : (97, \"Berkelio\"),  \"BR\" : (35, \"Bromo\"),  \"C\" : (6, \"Carbono\"), \n",
    "\"CA\" : (20, \"Calcio\"),  \"CD\" : (48, \"Cadmio\"),  \"CE\" : (58, \"Cerio\"),  \"CF\" : (98, \"Californio\"), \n",
    "\"CL\" : (17, \"Cloro\"),  \"CM\" : (96, \"Curio\"),  \"CN\" : (112, \"Copernicio\"),  \"CO\" : (27, \"Cobalto\"), \n",
    "\"CR\" : (24, \"Cromo\"),  \"CS\" : (55, \"Cesio\"),  \"CU\" : (29, \"Cobre\"),  \"DB\" : (105, \"Dubnio\"), \n",
    "\"DS\" : (110, \"Darmstadtio\"),  \"DY\" : (66, \"Disprosio\"),  \"ER\" : (68, \"Erbio\"),  \"ES\" : (99, \"Einstenio\"), \n",
    "\"EU\" : (63, \"Europio\"),  \"F\" : (9, \"Flúor\"),  \"FE\" : (26, \"Hierro\"),  \"FL\" : (114, \"Flerovio\"), \n",
    "\"FM\" : (100, \"Fermio\"),  \"FR\" : (87, \"Francio\"),  \"GA\" : (31, \"Galio\"),  \"GD\" : (64, \"Gadolinio\"), \n",
    "\"GE\" : (32, \"Germanio\"),  \"H\" : (1, \"Hidrógeno\"),  \"HE\" : (2, \"Helio\"),  \"HF\" : (72, \"Hafnio\"), \n",
    "\"HG\" : (80, \"Mercurio\"),  \"HO\" : (67, \"Holmio\"),  \"HS\" : (108, \"Hassio\"),  \"I\" : (53, \"Yodo\"), \n",
    "\"IN\" : (49, \"Indio\"),  \"IR\" : (77, \"Iridio\"),  \"K\" : (19, \"Potasio\"),  \"KR\" : (36, \"Kriptón\"), \n",
    "\"LA\" : (57, \"Lantano\"),  \"LI\" : (3, \"Litio\"),  \"LR\" : (103, \"Lawrencio\"),  \"LU\" : (71, \"Lutecio\"), \n",
    "\"LV\" : (116, \"Livermorio\"),  \"MC\" : (115, \"Moscovio\"),  \"MD\" : (101, \"Mendelevio\"),  \"MG\" : (12, \"Magnesio\"), \n",
    "\"MN\" : (25, \"Manganeso\"),  \"MO\" : (42, \"Molibdeno\"),  \"MT\" : (109, \"Meitnerio\"),  \"N\" : (7, \"Nitrógeno\"), \n",
    "\"NA\" : (11, \"Sodio\"),  \"NB\" : (41, \"Niobio\"),  \"ND\" : (60, \"Neodimio\"),  \"NE\" : (10, \"Neón\"), \n",
    "\"NH\" : (113, \"Nihonio\"),  \"NI\" : (28, \"Niquel\"),  \"NO\" : (102, \"Nobelio\"),  \"NP\" : (93, \"Neptunio\"), \n",
    "\"O\" : (8, \"Oxígeno\"),  \"OG\" : (118, \"Oganessón\"),  \"OS\" : (76, \"Osmio\"),  \"P\" : (15, \"Fósforo\"), \n",
    "\"PA\" : (91, \"Protactinio\"),  \"PB\" : (82, \"Plomo\"),  \"PD\" : (46, \"Paladio\"),  \"PM\" : (61, \"Prometio\"), \n",
    "\"PO\" : (84, \"Polonio\"),  \"PR\" : (59, \"Praseodimio\"),  \"PT\" : (78, \"Platino\"),  \"PU\" : (94, \"Plutonio\"), \n",
    "\"RA\" : (88, \"Radio\"),  \"RB\" : (37, \"Rubidio\"),  \"RE\" : (75, \"Renio\"),  \"RF\" : (104, \"Rutherfordio\"), \n",
    "\"RG\" : (111, \"Roentgenio\"),  \"RH\" : (45, \"Rodio\"),  \"RN\" : (86, \"Radón\"),  \"RU\" : (44, \"Rutenio\"), \n",
    "\"S\" : (16, \"Azufre\"),  \"SB\" : (51, \"Antimonio\"),  \"SC\" : (21, \"Escandio\"),  \"SE\" : (34, \"Selenio\"), \n",
    "\"SG\" : (106, \"Seaborgio\"),  \"SI\" : (14, \"Silicio\"),  \"SM\" : (62, \"Samario\"),  \"SN\" : (50, \"Estaño\"), \n",
    "\"SR\" : (38, \"Estroncio\"),  \"TA\" : (73, \"Tántalo\"),  \"TB\" : (65, \"Terbio\"),  \"TC\" : (43, \"Tecnecio\"), \n",
    "\"TE\" : (52, \"Teluro\"),  \"TH\" : (90, \"Torio\"),  \"TI\" : (22, \"Titanio\"),  \"TL\" : (81, \"Talio\"), \n",
    "\"TM\" : (69, \"Tulio\"),  \"TS\" : (117, \"Tennesso\"),  \"U\" : (92, \"Uranio\"),  \"V\" : (23, \"Vanadio\"), \n",
    "\"W\" : (74, \"Wolframio\"),  \"XE\" : (54, \"Xenón\"),  \"Y\" : (39, \"Itrio\"),  \"YB\" : (70, \"Iterbio\"), \n",
    "\"ZN\" : (30, \"Cinc\"),  \"ZR\" : (40, \"Circonio\")}"
   ]
  },
  {
   "cell_type": "markdown",
   "metadata": {},
   "source": [
    "Usted debe completar la rutina \"encuentra_mayor\", en que retorne cual es el elemento de mayor cantidad de atomos, donde la sigla esta incluida dentro del texto ingresado como parametro de la funcion. En el caso que no haya ningún elemento dentro del texto, debe retornar 0."
   ]
  },
  {
   "cell_type": "code",
   "execution_count": 14,
   "metadata": {
    "collapsed": true
   },
   "outputs": [],
   "source": [
    "def encuentra_mayor(str, dict):\n",
    "    simbolo_mayor = \"\"\n",
    "    atomos_mayor = 0\n",
    "    for i in dict.keys():\n",
    "        if i in str:\n",
    "            if dict[i][0] > atomos_mayor:\n",
    "                atomos_mayor = dict[i][0]\n",
    "                simbolo_mayor = i\n",
    "    if atomos_mayor == 0:\n",
    "        return 0\n",
    "    return dict[simbolo_mayor][1]"
   ]
  },
  {
   "cell_type": "markdown",
   "metadata": {},
   "source": [
    "Atención: Ingrese su apellido, en caso de tener acentos omitalos (sin acentos)"
   ]
  },
  {
   "cell_type": "code",
   "execution_count": 12,
   "metadata": {
    "collapsed": false
   },
   "outputs": [
    {
     "name": "stdout",
     "output_type": "stream",
     "text": [
      "Ingrese su apellido: bizama\n"
     ]
    }
   ],
   "source": [
    "apellido = input('Ingrese su apellido: ')"
   ]
  },
  {
   "cell_type": "code",
   "execution_count": 15,
   "metadata": {
    "collapsed": false
   },
   "outputs": [
    {
     "data": {
      "text/plain": [
       "'Americio'"
      ]
     },
     "execution_count": 15,
     "metadata": {},
     "output_type": "execute_result"
    }
   ],
   "source": [
    "encuentra_mayor(apellido.upper(), simbolos)"
   ]
  },
  {
   "cell_type": "code",
   "execution_count": null,
   "metadata": {
    "collapsed": true
   },
   "outputs": [],
   "source": []
  },
  {
   "cell_type": "code",
   "execution_count": null,
   "metadata": {
    "collapsed": true
   },
   "outputs": [],
   "source": []
  }
 ],
 "metadata": {
  "kernelspec": {
   "display_name": "Python 3",
   "language": "python",
   "name": "python3"
  },
  "language_info": {
   "codemirror_mode": {
    "name": "ipython",
    "version": 3
   },
   "file_extension": ".py",
   "mimetype": "text/x-python",
   "name": "python",
   "nbconvert_exporter": "python",
   "pygments_lexer": "ipython3",
   "version": "3.6.0"
  }
 },
 "nbformat": 4,
 "nbformat_minor": 2
}
