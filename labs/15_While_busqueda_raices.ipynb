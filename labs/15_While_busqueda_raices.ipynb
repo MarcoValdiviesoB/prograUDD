{
 "cells": [
  {
   "cell_type": "markdown",
   "metadata": {},
   "source": [
    "### En este ejercicio, utilizaremos el teorema de Bolzano que dice que si una función f real continua en un intervalo cerrado [a,b] con f(a) y f(b) de signos contrarios. Entonces existe al menos un punto c del intervalo abierto (a, b) con f(c) = 0. "
   ]
  },
  {
   "cell_type": "markdown",
   "metadata": {},
   "source": [
    "En nuestro caso la funcion sera: $f(x) = x^b - a$"
   ]
  },
  {
   "cell_type": "markdown",
   "metadata": {},
   "source": [
    "Donde a>1, b>1 y nuestro intervalo sera [0, a], pues con eso logramos que tengan distinto signo en cada extremo del intervalo"
   ]
  },
  {
   "cell_type": "markdown",
   "metadata": {},
   "source": [
    "Fijese que la solucion será la raiz b-esima de a, y buscaremos la raiz dividiendo el intervalo por el punto medio de este y quedandonos con un nuevo intervalo factible, cosa que haremos hasta que el intervalo sea muy pequeño."
   ]
  },
  {
   "cell_type": "code",
   "execution_count": 1,
   "metadata": {
    "collapsed": false
   },
   "outputs": [
    {
     "name": "stdout",
     "output_type": "stream",
     "text": [
      "Ingrese a: 3\n"
     ]
    }
   ],
   "source": [
    "a = int(input(\"Ingrese a: \"))"
   ]
  },
  {
   "cell_type": "code",
   "execution_count": 2,
   "metadata": {
    "collapsed": false
   },
   "outputs": [
    {
     "name": "stdout",
     "output_type": "stream",
     "text": [
      "Ingrese b: 2\n"
     ]
    }
   ],
   "source": [
    "b = int(input(\"Ingrese b: \"))"
   ]
  },
  {
   "cell_type": "code",
   "execution_count": 3,
   "metadata": {
    "collapsed": true
   },
   "outputs": [],
   "source": [
    "cotainf = 0\n",
    "cotasup = a\n",
    "fci = cotainf**b - a\n",
    "iteraciones = 0"
   ]
  },
  {
   "cell_type": "code",
   "execution_count": 4,
   "metadata": {
    "collapsed": true
   },
   "outputs": [],
   "source": [
    "while (cotasup-cotainf) > 0.00000001:\n",
    "    iteraciones += 1\n",
    "    pmedio = (cotasup+cotainf)/2\n",
    "    fpm = pmedio**b - a\n",
    "    if fpm == 0:\n",
    "        cotasup = pmedio\n",
    "        cotainf = pmedio\n",
    "    elif fci*fpm < 0:\n",
    "        cotasup = pmedio\n",
    "    else:\n",
    "        cotainf = pmedio"
   ]
  },
  {
   "cell_type": "code",
   "execution_count": 5,
   "metadata": {
    "collapsed": false
   },
   "outputs": [
    {
     "name": "stdout",
     "output_type": "stream",
     "text": [
      "29\n"
     ]
    }
   ],
   "source": [
    "print(iteraciones)"
   ]
  },
  {
   "cell_type": "code",
   "execution_count": 6,
   "metadata": {
    "collapsed": false
   },
   "outputs": [
    {
     "name": "stdout",
     "output_type": "stream",
     "text": [
      "1.732050810009241 1.7320508044213057 1.7320508075688772\n"
     ]
    }
   ],
   "source": [
    "print(cotasup, cotainf, a**(1/b))"
   ]
  }
 ],
 "metadata": {
  "kernelspec": {
   "display_name": "Python 3",
   "language": "python",
   "name": "python3"
  },
  "language_info": {
   "codemirror_mode": {
    "name": "ipython",
    "version": 3
   },
   "file_extension": ".py",
   "mimetype": "text/x-python",
   "name": "python",
   "nbconvert_exporter": "python",
   "pygments_lexer": "ipython3",
   "version": "3.6.0"
  }
 },
 "nbformat": 4,
 "nbformat_minor": 2
}
