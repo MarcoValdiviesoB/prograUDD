{
 "cells": [
  {
   "cell_type": "markdown",
   "metadata": {},
   "source": [
    "### En este ejercicio ingresaremos un año y lo imprimiremos como numero romano."
   ]
  },
  {
   "cell_type": "code",
   "execution_count": 1,
   "metadata": {
    "collapsed": false
   },
   "outputs": [
    {
     "name": "stdout",
     "output_type": "stream",
     "text": [
      "Ingrese su año: 1997\n"
     ]
    }
   ],
   "source": [
    "# suponemos que ponemos un año de verdad, por eso no pongo condiciones\n",
    "año = int(input(\"Ingrese su año: \"))"
   ]
  },
  {
   "cell_type": "code",
   "execution_count": 2,
   "metadata": {
    "collapsed": true
   },
   "outputs": [],
   "source": [
    "añooriginal = año"
   ]
  },
  {
   "cell_type": "markdown",
   "metadata": {},
   "source": [
    "La idea es ir achicando el año, con el mayor numero romano posible, sin embargo nos dimos cuenta que teniamos problemas con los \"9\", por lo que agregamos 900, 400, 90, 40, 9 y 4."
   ]
  },
  {
   "cell_type": "code",
   "execution_count": 3,
   "metadata": {
    "collapsed": true
   },
   "outputs": [],
   "source": [
    "resultado = \"\"\n",
    "while año != 0:\n",
    "    if año >= 1000:\n",
    "        veces = año // 1000\n",
    "        resultado += \"M\" * veces\n",
    "        año %= 1000\n",
    "    elif año >= 900:\n",
    "        año -= 900\n",
    "        resultado += \"CM\"\n",
    "    elif año >= 500:\n",
    "        año -= 500\n",
    "        resultado += \"D\"\n",
    "    elif año >= 400:\n",
    "        año -= 400\n",
    "        resultado += \"CD\"\n",
    "    elif año >= 100:\n",
    "        veces = año // 100\n",
    "        resultado += \"C\" * veces\n",
    "        año %= 100\n",
    "    elif año >= 90:\n",
    "        año -= 90\n",
    "        resultado += \"XC\"\n",
    "    elif año >= 50:\n",
    "        año -= 50\n",
    "        resultado += \"L\"\n",
    "    elif año >= 40:\n",
    "        año -= 40\n",
    "        resultado += \"XL\"\n",
    "    elif año >= 10:\n",
    "        veces = año // 10\n",
    "        año -= 10\n",
    "        resultado += \"X\"\n",
    "    elif año >= 9:\n",
    "        año -= 9\n",
    "        resultado += \"IX\"\n",
    "    elif año >= 5:\n",
    "        año -= 5\n",
    "        resultado += \"V\"\n",
    "    elif año >= 4:\n",
    "        año -= 4\n",
    "        resultado += \"IV\"\n",
    "    else:\n",
    "        resultado += \"I\" * año\n",
    "        año = 0"
   ]
  },
  {
   "cell_type": "code",
   "execution_count": 4,
   "metadata": {
    "collapsed": false
   },
   "outputs": [
    {
     "name": "stdout",
     "output_type": "stream",
     "text": [
      "MCMXCVII\n"
     ]
    }
   ],
   "source": [
    "print(resultado)"
   ]
  },
  {
   "cell_type": "markdown",
   "metadata": {},
   "source": [
    "Vimos que el if es muy extenso, podemos usar lista, o mejor \"tuplas\"."
   ]
  },
  {
   "cell_type": "code",
   "execution_count": 5,
   "metadata": {
    "collapsed": true
   },
   "outputs": [],
   "source": [
    "valores = (1000, 900, 500, 400, 100, 90, 50, 40, 10, 9, 5, 4, 1)"
   ]
  },
  {
   "cell_type": "code",
   "execution_count": 6,
   "metadata": {
    "collapsed": true
   },
   "outputs": [],
   "source": [
    "letras = (\"M\", \"CM\", \"D\", \"CD\", \"C\", \"XC\", \"L\", \"XL\", \"X\", \"IX\", \"V\", \"IV\", \"I\")"
   ]
  },
  {
   "cell_type": "code",
   "execution_count": 7,
   "metadata": {
    "collapsed": false
   },
   "outputs": [
    {
     "ename": "TypeError",
     "evalue": "'tuple' object does not support item assignment",
     "output_type": "error",
     "traceback": [
      "\u001b[0;31m---------------------------------------------------------------------------\u001b[0m",
      "\u001b[0;31mTypeError\u001b[0m                                 Traceback (most recent call last)",
      "\u001b[0;32m<ipython-input-7-ba75a818ed7e>\u001b[0m in \u001b[0;36m<module>\u001b[0;34m()\u001b[0m\n\u001b[0;32m----> 1\u001b[0;31m \u001b[0mvalores\u001b[0m\u001b[1;33m[\u001b[0m\u001b[1;36m3\u001b[0m\u001b[1;33m]\u001b[0m\u001b[1;33m=\u001b[0m \u001b[1;36m123\u001b[0m\u001b[1;33m\u001b[0m\u001b[0m\n\u001b[0m\u001b[1;32m      2\u001b[0m \u001b[1;31m# nos damos cuenta que la tupla no se puede modificar a diferencia de la lista...\u001b[0m\u001b[1;33m\u001b[0m\u001b[1;33m\u001b[0m\u001b[0m\n",
      "\u001b[0;31mTypeError\u001b[0m: 'tuple' object does not support item assignment"
     ]
    }
   ],
   "source": [
    "valores[3]= 123\n",
    "# nos damos cuenta que la tupla no se puede modificar a diferencia de la lista..."
   ]
  },
  {
   "cell_type": "code",
   "execution_count": 8,
   "metadata": {
    "collapsed": false
   },
   "outputs": [],
   "source": [
    "año = añooriginal\n",
    "res = \"\"\n",
    "while año != 0:\n",
    "    for i in range(len(valores)):\n",
    "        if valores[i] <= año:\n",
    "            res += letras[i]\n",
    "            año -= valores[i]\n",
    "            break"
   ]
  },
  {
   "cell_type": "code",
   "execution_count": 9,
   "metadata": {
    "collapsed": false
   },
   "outputs": [
    {
     "name": "stdout",
     "output_type": "stream",
     "text": [
      "MCMXCVII\n"
     ]
    }
   ],
   "source": [
    "print(res)"
   ]
  }
 ],
 "metadata": {
  "kernelspec": {
   "display_name": "Python 3",
   "language": "python",
   "name": "python3"
  },
  "language_info": {
   "codemirror_mode": {
    "name": "ipython",
    "version": 3
   },
   "file_extension": ".py",
   "mimetype": "text/x-python",
   "name": "python",
   "nbconvert_exporter": "python",
   "pygments_lexer": "ipython3",
   "version": "3.6.0"
  }
 },
 "nbformat": 4,
 "nbformat_minor": 2
}
