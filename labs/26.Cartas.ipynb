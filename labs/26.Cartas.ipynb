{
 "cells": [
  {
   "cell_type": "markdown",
   "metadata": {},
   "source": [
    "Usaremos la biblioteca itertools, para generar una baraja de 52 cartas, recuerde que list() debe recibir un iterador de modo que crea la lista con cada elemento del iterador."
   ]
  },
  {
   "cell_type": "code",
   "execution_count": 1,
   "metadata": {
    "collapsed": true
   },
   "outputs": [],
   "source": [
    "numeros = list(iter(range(1,14)))"
   ]
  },
  {
   "cell_type": "code",
   "execution_count": 2,
   "metadata": {
    "collapsed": false
   },
   "outputs": [
    {
     "data": {
      "text/plain": [
       "[1, 2, 3, 4, 5, 6, 7, 8, 9, 10, 11, 12, 13]"
      ]
     },
     "execution_count": 2,
     "metadata": {},
     "output_type": "execute_result"
    }
   ],
   "source": [
    "numeros"
   ]
  },
  {
   "cell_type": "code",
   "execution_count": 3,
   "metadata": {
    "collapsed": true
   },
   "outputs": [],
   "source": [
    "pintas = ['c', 'd', 't', 'p']"
   ]
  },
  {
   "cell_type": "code",
   "execution_count": 4,
   "metadata": {
    "collapsed": true
   },
   "outputs": [],
   "source": [
    "import itertools"
   ]
  },
  {
   "cell_type": "code",
   "execution_count": 5,
   "metadata": {
    "collapsed": false
   },
   "outputs": [],
   "source": [
    "cartas = list(iter(itertools.product(numeros,pintas)))"
   ]
  },
  {
   "cell_type": "code",
   "execution_count": 6,
   "metadata": {
    "collapsed": false
   },
   "outputs": [
    {
     "data": {
      "text/plain": [
       "[(1, 'c'),\n",
       " (1, 'd'),\n",
       " (1, 't'),\n",
       " (1, 'p'),\n",
       " (2, 'c'),\n",
       " (2, 'd'),\n",
       " (2, 't'),\n",
       " (2, 'p'),\n",
       " (3, 'c'),\n",
       " (3, 'd'),\n",
       " (3, 't'),\n",
       " (3, 'p'),\n",
       " (4, 'c'),\n",
       " (4, 'd'),\n",
       " (4, 't'),\n",
       " (4, 'p'),\n",
       " (5, 'c'),\n",
       " (5, 'd'),\n",
       " (5, 't'),\n",
       " (5, 'p'),\n",
       " (6, 'c'),\n",
       " (6, 'd'),\n",
       " (6, 't'),\n",
       " (6, 'p'),\n",
       " (7, 'c'),\n",
       " (7, 'd'),\n",
       " (7, 't'),\n",
       " (7, 'p'),\n",
       " (8, 'c'),\n",
       " (8, 'd'),\n",
       " (8, 't'),\n",
       " (8, 'p'),\n",
       " (9, 'c'),\n",
       " (9, 'd'),\n",
       " (9, 't'),\n",
       " (9, 'p'),\n",
       " (10, 'c'),\n",
       " (10, 'd'),\n",
       " (10, 't'),\n",
       " (10, 'p'),\n",
       " (11, 'c'),\n",
       " (11, 'd'),\n",
       " (11, 't'),\n",
       " (11, 'p'),\n",
       " (12, 'c'),\n",
       " (12, 'd'),\n",
       " (12, 't'),\n",
       " (12, 'p'),\n",
       " (13, 'c'),\n",
       " (13, 'd'),\n",
       " (13, 't'),\n",
       " (13, 'p')]"
      ]
     },
     "execution_count": 6,
     "metadata": {},
     "output_type": "execute_result"
    }
   ],
   "source": [
    "cartas"
   ]
  },
  {
   "cell_type": "code",
   "execution_count": 7,
   "metadata": {
    "collapsed": false
   },
   "outputs": [
    {
     "data": {
      "text/plain": [
       "52"
      ]
     },
     "execution_count": 7,
     "metadata": {},
     "output_type": "execute_result"
    }
   ],
   "source": [
    "len(cartas)"
   ]
  },
  {
   "cell_type": "code",
   "execution_count": 8,
   "metadata": {
    "collapsed": true
   },
   "outputs": [],
   "source": [
    "import random"
   ]
  },
  {
   "cell_type": "markdown",
   "metadata": {},
   "source": [
    "Aqui vamos a revolver las cartas..."
   ]
  },
  {
   "cell_type": "code",
   "execution_count": 9,
   "metadata": {
    "collapsed": true
   },
   "outputs": [],
   "source": [
    "random.shuffle(cartas)"
   ]
  },
  {
   "cell_type": "code",
   "execution_count": 10,
   "metadata": {
    "collapsed": false
   },
   "outputs": [
    {
     "data": {
      "text/plain": [
       "[(6, 'd'),\n",
       " (2, 'c'),\n",
       " (6, 'c'),\n",
       " (8, 'd'),\n",
       " (5, 'c'),\n",
       " (1, 'd'),\n",
       " (8, 'c'),\n",
       " (3, 't'),\n",
       " (12, 'c'),\n",
       " (7, 'd'),\n",
       " (2, 't'),\n",
       " (7, 'p'),\n",
       " (13, 'p'),\n",
       " (11, 't'),\n",
       " (1, 'p'),\n",
       " (1, 't'),\n",
       " (5, 'p'),\n",
       " (2, 'p'),\n",
       " (9, 'p'),\n",
       " (4, 'c'),\n",
       " (10, 'p'),\n",
       " (6, 't'),\n",
       " (4, 't'),\n",
       " (1, 'c'),\n",
       " (10, 'c'),\n",
       " (13, 'c'),\n",
       " (13, 't'),\n",
       " (9, 't'),\n",
       " (5, 't'),\n",
       " (9, 'd'),\n",
       " (2, 'd'),\n",
       " (3, 'd'),\n",
       " (5, 'd'),\n",
       " (4, 'd'),\n",
       " (12, 't'),\n",
       " (11, 'd'),\n",
       " (6, 'p'),\n",
       " (8, 'p'),\n",
       " (8, 't'),\n",
       " (7, 'c'),\n",
       " (12, 'd'),\n",
       " (9, 'c'),\n",
       " (11, 'c'),\n",
       " (10, 't'),\n",
       " (10, 'd'),\n",
       " (12, 'p'),\n",
       " (13, 'd'),\n",
       " (3, 'c'),\n",
       " (4, 'p'),\n",
       " (11, 'p'),\n",
       " (3, 'p'),\n",
       " (7, 't')]"
      ]
     },
     "execution_count": 10,
     "metadata": {},
     "output_type": "execute_result"
    }
   ],
   "source": [
    "cartas"
   ]
  },
  {
   "cell_type": "code",
   "execution_count": 11,
   "metadata": {
    "collapsed": true
   },
   "outputs": [],
   "source": [
    "def es_roja(carta):\n",
    "    if carta[1] == 'd' or carta[1] == 'c':\n",
    "        return True\n",
    "    else:\n",
    "        return False"
   ]
  },
  {
   "cell_type": "markdown",
   "metadata": {},
   "source": [
    "Existe las funciones map y filter, ellas reciben una funcion y un iterador como parametro y retorna un iterador, en el caso de map, con el resultado de la funcion, para filter con los parametros en que la función retorna verdadero"
   ]
  },
  {
   "cell_type": "code",
   "execution_count": 12,
   "metadata": {
    "collapsed": true
   },
   "outputs": [],
   "source": [
    "cartas_rojas = list(filter(es_roja, iter(cartas)))"
   ]
  },
  {
   "cell_type": "code",
   "execution_count": 13,
   "metadata": {
    "collapsed": false
   },
   "outputs": [
    {
     "data": {
      "text/plain": [
       "[(6, 'd'),\n",
       " (2, 'c'),\n",
       " (6, 'c'),\n",
       " (8, 'd'),\n",
       " (5, 'c'),\n",
       " (1, 'd'),\n",
       " (8, 'c'),\n",
       " (12, 'c'),\n",
       " (7, 'd'),\n",
       " (4, 'c'),\n",
       " (1, 'c'),\n",
       " (10, 'c'),\n",
       " (13, 'c'),\n",
       " (9, 'd'),\n",
       " (2, 'd'),\n",
       " (3, 'd'),\n",
       " (5, 'd'),\n",
       " (4, 'd'),\n",
       " (11, 'd'),\n",
       " (7, 'c'),\n",
       " (12, 'd'),\n",
       " (9, 'c'),\n",
       " (11, 'c'),\n",
       " (10, 'd'),\n",
       " (13, 'd'),\n",
       " (3, 'c')]"
      ]
     },
     "execution_count": 13,
     "metadata": {},
     "output_type": "execute_result"
    }
   ],
   "source": [
    "cartas_rojas"
   ]
  },
  {
   "cell_type": "code",
   "execution_count": 14,
   "metadata": {
    "collapsed": true
   },
   "outputs": [],
   "source": [
    "son_rojas = list(map(es_roja, iter(cartas)))"
   ]
  },
  {
   "cell_type": "code",
   "execution_count": 15,
   "metadata": {
    "collapsed": false
   },
   "outputs": [
    {
     "data": {
      "text/plain": [
       "[True,\n",
       " True,\n",
       " True,\n",
       " True,\n",
       " True,\n",
       " True,\n",
       " True,\n",
       " False,\n",
       " True,\n",
       " True,\n",
       " False,\n",
       " False,\n",
       " False,\n",
       " False,\n",
       " False,\n",
       " False,\n",
       " False,\n",
       " False,\n",
       " False,\n",
       " True,\n",
       " False,\n",
       " False,\n",
       " False,\n",
       " True,\n",
       " True,\n",
       " True,\n",
       " False,\n",
       " False,\n",
       " False,\n",
       " True,\n",
       " True,\n",
       " True,\n",
       " True,\n",
       " True,\n",
       " False,\n",
       " True,\n",
       " False,\n",
       " False,\n",
       " False,\n",
       " True,\n",
       " True,\n",
       " True,\n",
       " True,\n",
       " False,\n",
       " True,\n",
       " False,\n",
       " True,\n",
       " True,\n",
       " False,\n",
       " False,\n",
       " False,\n",
       " False]"
      ]
     },
     "execution_count": 15,
     "metadata": {},
     "output_type": "execute_result"
    }
   ],
   "source": [
    "son_rojas"
   ]
  },
  {
   "cell_type": "code",
   "execution_count": 16,
   "metadata": {
    "collapsed": false
   },
   "outputs": [
    {
     "data": {
      "text/plain": [
       "52"
      ]
     },
     "execution_count": 16,
     "metadata": {},
     "output_type": "execute_result"
    }
   ],
   "source": [
    "len(son_rojas)"
   ]
  },
  {
   "cell_type": "code",
   "execution_count": 17,
   "metadata": {
    "collapsed": true
   },
   "outputs": [],
   "source": [
    "def valor_carta(carta):\n",
    "    if carta[0] >= 10:\n",
    "        return 10\n",
    "    else:\n",
    "        return carta[0]"
   ]
  },
  {
   "cell_type": "code",
   "execution_count": 18,
   "metadata": {
    "collapsed": true
   },
   "outputs": [],
   "source": [
    "valores = list(map(valor_carta, iter(cartas)))"
   ]
  },
  {
   "cell_type": "code",
   "execution_count": 19,
   "metadata": {
    "collapsed": false
   },
   "outputs": [
    {
     "data": {
      "text/plain": [
       "[6,\n",
       " 2,\n",
       " 6,\n",
       " 8,\n",
       " 5,\n",
       " 1,\n",
       " 8,\n",
       " 3,\n",
       " 10,\n",
       " 7,\n",
       " 2,\n",
       " 7,\n",
       " 10,\n",
       " 10,\n",
       " 1,\n",
       " 1,\n",
       " 5,\n",
       " 2,\n",
       " 9,\n",
       " 4,\n",
       " 10,\n",
       " 6,\n",
       " 4,\n",
       " 1,\n",
       " 10,\n",
       " 10,\n",
       " 10,\n",
       " 9,\n",
       " 5,\n",
       " 9,\n",
       " 2,\n",
       " 3,\n",
       " 5,\n",
       " 4,\n",
       " 10,\n",
       " 10,\n",
       " 6,\n",
       " 8,\n",
       " 8,\n",
       " 7,\n",
       " 10,\n",
       " 9,\n",
       " 10,\n",
       " 10,\n",
       " 10,\n",
       " 10,\n",
       " 10,\n",
       " 3,\n",
       " 4,\n",
       " 10,\n",
       " 3,\n",
       " 7]"
      ]
     },
     "execution_count": 19,
     "metadata": {},
     "output_type": "execute_result"
    }
   ],
   "source": [
    "valores"
   ]
  },
  {
   "cell_type": "code",
   "execution_count": 20,
   "metadata": {
    "collapsed": true
   },
   "outputs": [],
   "source": [
    "valores = set(map(valor_carta, iter(cartas)))"
   ]
  },
  {
   "cell_type": "code",
   "execution_count": 21,
   "metadata": {
    "collapsed": false
   },
   "outputs": [
    {
     "data": {
      "text/plain": [
       "{1, 2, 3, 4, 5, 6, 7, 8, 9, 10}"
      ]
     },
     "execution_count": 21,
     "metadata": {},
     "output_type": "execute_result"
    }
   ],
   "source": [
    "valores"
   ]
  },
  {
   "cell_type": "code",
   "execution_count": 22,
   "metadata": {
    "collapsed": true
   },
   "outputs": [],
   "source": [
    "tupla = tuple(map(valor_carta, iter(cartas)))"
   ]
  },
  {
   "cell_type": "code",
   "execution_count": 23,
   "metadata": {
    "collapsed": false
   },
   "outputs": [
    {
     "data": {
      "text/plain": [
       "(6,\n",
       " 2,\n",
       " 6,\n",
       " 8,\n",
       " 5,\n",
       " 1,\n",
       " 8,\n",
       " 3,\n",
       " 10,\n",
       " 7,\n",
       " 2,\n",
       " 7,\n",
       " 10,\n",
       " 10,\n",
       " 1,\n",
       " 1,\n",
       " 5,\n",
       " 2,\n",
       " 9,\n",
       " 4,\n",
       " 10,\n",
       " 6,\n",
       " 4,\n",
       " 1,\n",
       " 10,\n",
       " 10,\n",
       " 10,\n",
       " 9,\n",
       " 5,\n",
       " 9,\n",
       " 2,\n",
       " 3,\n",
       " 5,\n",
       " 4,\n",
       " 10,\n",
       " 10,\n",
       " 6,\n",
       " 8,\n",
       " 8,\n",
       " 7,\n",
       " 10,\n",
       " 9,\n",
       " 10,\n",
       " 10,\n",
       " 10,\n",
       " 10,\n",
       " 10,\n",
       " 3,\n",
       " 4,\n",
       " 10,\n",
       " 3,\n",
       " 7)"
      ]
     },
     "execution_count": 23,
     "metadata": {},
     "output_type": "execute_result"
    }
   ],
   "source": [
    "tupla"
   ]
  },
  {
   "cell_type": "code",
   "execution_count": null,
   "metadata": {
    "collapsed": true
   },
   "outputs": [],
   "source": []
  }
 ],
 "metadata": {
  "kernelspec": {
   "display_name": "Python 3",
   "language": "python",
   "name": "python3"
  },
  "language_info": {
   "codemirror_mode": {
    "name": "ipython",
    "version": 3
   },
   "file_extension": ".py",
   "mimetype": "text/x-python",
   "name": "python",
   "nbconvert_exporter": "python",
   "pygments_lexer": "ipython3",
   "version": "3.6.0"
  }
 },
 "nbformat": 4,
 "nbformat_minor": 2
}
