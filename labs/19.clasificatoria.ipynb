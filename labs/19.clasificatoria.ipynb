{
 "cells": [
  {
   "cell_type": "markdown",
   "metadata": {},
   "source": [
    "# El archivo fifa.csv contiene los resultados de la clasificatoria Rusia 2018."
   ]
  },
  {
   "cell_type": "markdown",
   "metadata": {},
   "source": [
    "Leeremos el archivo y realizaremos diccionarios con los puntos, diferencia de goles y goles convertidos, para posteriormente imprimir la tabla de posiciones."
   ]
  },
  {
   "cell_type": "code",
   "execution_count": 1,
   "metadata": {
    "collapsed": true
   },
   "outputs": [],
   "source": [
    "archivo = open(\"fifa.csv\", \"r\")"
   ]
  },
  {
   "cell_type": "code",
   "execution_count": 2,
   "metadata": {
    "collapsed": false
   },
   "outputs": [
    {
     "data": {
      "text/plain": [
       "True"
      ]
     },
     "execution_count": 2,
     "metadata": {},
     "output_type": "execute_result"
    }
   ],
   "source": [
    "archivo.readable()"
   ]
  },
  {
   "cell_type": "code",
   "execution_count": 3,
   "metadata": {
    "collapsed": false
   },
   "outputs": [
    {
     "data": {
      "text/plain": [
       "'Id;D'"
      ]
     },
     "execution_count": 3,
     "metadata": {},
     "output_type": "execute_result"
    }
   ],
   "source": [
    "archivo.read(4)"
   ]
  },
  {
   "cell_type": "code",
   "execution_count": 4,
   "metadata": {
    "collapsed": false
   },
   "outputs": [
    {
     "data": {
      "text/plain": [
       "'ay;Day #;Month;Year;Local Time;Played Time;Stadium;Location;Local Team;Visit Team;Local Team Score;Visit Score\\n'"
      ]
     },
     "execution_count": 4,
     "metadata": {},
     "output_type": "execute_result"
    }
   ],
   "source": [
    "archivo.readline()"
   ]
  },
  {
   "cell_type": "code",
   "execution_count": 5,
   "metadata": {
    "collapsed": false
   },
   "outputs": [],
   "source": [
    "puntos = {}\n",
    "difgoles = {}\n",
    "golesconv = {}\n",
    "for i in archivo:\n",
    "    valores = i.split(\";\")\n",
    "    #print(valores[9], valores[10])\n",
    "    \n",
    "    if valores[9] not in puntos.keys():\n",
    "        puntos[valores[9]] = 0\n",
    "        difgoles[valores[9]] = 0\n",
    "        golesconv[valores[9]] = 0\n",
    "    if valores[10] not in puntos.keys():\n",
    "        puntos[valores[10]] = 0\n",
    "        difgoles[valores[10]] = 0\n",
    "        golesconv[valores[10]] = 0\n",
    "        \n",
    "    goleslocal = int(valores[11])\n",
    "    golesvisita = int(valores[12])\n",
    "    \n",
    "    if goleslocal > golesvisita:\n",
    "        puntos[valores[9]] += 3\n",
    "    elif goleslocal == golesvisita:\n",
    "        puntos[valores[9]] += 1\n",
    "        puntos[valores[10]] += 1\n",
    "    else:\n",
    "        puntos[valores[10]] += 3 \n",
    "        \n",
    "    golesconv[valores[9]] += goleslocal\n",
    "    golesconv[valores[10]] += golesvisita\n",
    "    difgoles[valores[9]] += (goleslocal-golesvisita)\n",
    "    difgoles[valores[10]] += (golesvisita-goleslocal)"
   ]
  },
  {
   "cell_type": "code",
   "execution_count": 6,
   "metadata": {
    "collapsed": true
   },
   "outputs": [],
   "source": [
    "indicadores = {}\n",
    "for i in puntos.keys():\n",
    "    indicadores[i] = puntos[i] * 10000 + difgoles[i] * 100 + golesconv[i]"
   ]
  },
  {
   "cell_type": "code",
   "execution_count": 7,
   "metadata": {
    "collapsed": false
   },
   "outputs": [
    {
     "data": {
      "text/plain": [
       "{'Argentina': 280319,\n",
       " 'Bolivia': 137816,\n",
       " 'Brazil': 413041,\n",
       " 'Chile': 259926,\n",
       " 'Colombia': 270221,\n",
       " 'Ecuador': 199726,\n",
       " 'Paraguay': 239419,\n",
       " 'Peru': 260127,\n",
       " 'Uruguay': 311232,\n",
       " 'Venezuela': 118419}"
      ]
     },
     "execution_count": 7,
     "metadata": {},
     "output_type": "execute_result"
    }
   ],
   "source": [
    "indicadores"
   ]
  },
  {
   "cell_type": "code",
   "execution_count": 8,
   "metadata": {
    "collapsed": false
   },
   "outputs": [
    {
     "name": "stdout",
     "output_type": "stream",
     "text": [
      "Brazil 41 30 41\n",
      "Uruguay 31 12 32\n",
      "Argentina 28 3 19\n",
      "Colombia 27 2 21\n",
      "Peru 26 1 27\n",
      "Chile 26 -1 26\n",
      "Paraguay 24 -6 19\n",
      "Ecuador 20 -3 26\n",
      "Bolivia 14 -22 16\n",
      "Venezuela 12 -16 19\n"
     ]
    }
   ],
   "source": [
    "for i in sorted(indicadores, key=indicadores.get, reverse=True):\n",
    "    print(i, puntos[i], difgoles[i], golesconv[i])"
   ]
  },
  {
   "cell_type": "code",
   "execution_count": null,
   "metadata": {
    "collapsed": true
   },
   "outputs": [],
   "source": []
  }
 ],
 "metadata": {
  "kernelspec": {
   "display_name": "Python 3",
   "language": "python",
   "name": "python3"
  },
  "language_info": {
   "codemirror_mode": {
    "name": "ipython",
    "version": 3
   },
   "file_extension": ".py",
   "mimetype": "text/x-python",
   "name": "python",
   "nbconvert_exporter": "python",
   "pygments_lexer": "ipython3",
   "version": "3.6.0"
  }
 },
 "nbformat": 4,
 "nbformat_minor": 2
}
